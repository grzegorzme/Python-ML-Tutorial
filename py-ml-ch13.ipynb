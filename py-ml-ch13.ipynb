{
 "cells": [
  {
   "cell_type": "markdown",
   "metadata": {},
   "source": [
    "# Parallelizing Neural Network Training with Theano"
   ]
  },
  {
   "cell_type": "code",
   "execution_count": 1,
   "metadata": {
    "collapsed": true
   },
   "outputs": [],
   "source": [
    "import theano\n",
    "from theano import tensor as T"
   ]
  },
  {
   "cell_type": "code",
   "execution_count": 2,
   "metadata": {
    "collapsed": true
   },
   "outputs": [],
   "source": [
    "# initialize\n",
    "x1 = T.scalar()\n",
    "w0 = T.scalar()\n",
    "w1 = T.scalar()\n",
    "z1 = w1 * x1 + w0"
   ]
  },
  {
   "cell_type": "code",
   "execution_count": 3,
   "metadata": {},
   "outputs": [],
   "source": [
    "# compile\n",
    "net_input = theano.function(inputs=[w1, x1, w0], outputs=z1)"
   ]
  },
  {
   "cell_type": "code",
   "execution_count": 4,
   "metadata": {},
   "outputs": [
    {
     "name": "stdout",
     "output_type": "stream",
     "text": [
      "Net output: 2.50\n"
     ]
    }
   ],
   "source": [
    "# execute\n",
    "print('Net output: %.2f' % net_input(2.0, 1.0, 0.5))"
   ]
  },
  {
   "cell_type": "markdown",
   "metadata": {},
   "source": [
    "## Configuring Theano"
   ]
  },
  {
   "cell_type": "code",
   "execution_count": 5,
   "metadata": {},
   "outputs": [
    {
     "name": "stdout",
     "output_type": "stream",
     "text": [
      "float64\n"
     ]
    }
   ],
   "source": [
    "print(theano.config.floatX)"
   ]
  },
  {
   "cell_type": "code",
   "execution_count": 6,
   "metadata": {
    "collapsed": true
   },
   "outputs": [],
   "source": [
    "theano.config.floatX = 'float32'"
   ]
  },
  {
   "cell_type": "code",
   "execution_count": 7,
   "metadata": {},
   "outputs": [
    {
     "name": "stdout",
     "output_type": "stream",
     "text": [
      "cpu\n"
     ]
    }
   ],
   "source": [
    "print(theano.config.device)"
   ]
  },
  {
   "cell_type": "markdown",
   "metadata": {},
   "source": [
    "## Working with array structures"
   ]
  },
  {
   "cell_type": "code",
   "execution_count": 8,
   "metadata": {
    "collapsed": true
   },
   "outputs": [],
   "source": [
    "import numpy as np"
   ]
  },
  {
   "cell_type": "code",
   "execution_count": 9,
   "metadata": {
    "collapsed": true
   },
   "outputs": [],
   "source": [
    "# initialize\n",
    "# if you are running Theano on 64 bit mode\n",
    "# you need to use dmatrix instead of fmatrix\n",
    "x = T.fmatrix(name='x')\n",
    "x_sum = T.sum(x, axis=0)"
   ]
  },
  {
   "cell_type": "code",
   "execution_count": 10,
   "metadata": {
    "collapsed": true
   },
   "outputs": [],
   "source": [
    "# compile\n",
    "calc_sum = theano.function(inputs=[x], outputs=x_sum)"
   ]
  },
  {
   "cell_type": "code",
   "execution_count": 11,
   "metadata": {},
   "outputs": [
    {
     "name": "stdout",
     "output_type": "stream",
     "text": [
      "Column sum: [ 2.  4.  6.]\n"
     ]
    }
   ],
   "source": [
    "# execute\n",
    "ary = [[1,2,3],[1,2,3]]\n",
    "print('Column sum:', calc_sum(ary))"
   ]
  },
  {
   "cell_type": "code",
   "execution_count": 12,
   "metadata": {},
   "outputs": [
    {
     "name": "stdout",
     "output_type": "stream",
     "text": [
      "Column sum: [ 2.  4.  6.]\n"
     ]
    }
   ],
   "source": [
    "# execute (NumPy array)\n",
    "ary = np.array([[1,2,3],[1,2,3]], dtype=theano.config.floatX)\n",
    "print('Column sum:', calc_sum(ary))"
   ]
  },
  {
   "cell_type": "code",
   "execution_count": 13,
   "metadata": {},
   "outputs": [
    {
     "name": "stdout",
     "output_type": "stream",
     "text": [
      "z0: [[ 0.]]\n",
      "z1: [[ 6.]]\n",
      "z2: [[ 12.]]\n",
      "z3: [[ 18.]]\n",
      "z4: [[ 24.]]\n"
     ]
    }
   ],
   "source": [
    "# initialize\n",
    "x = T.fmatrix('x')\n",
    "w = theano.shared(np.asarray([[0.0, 0.0, 0.0]], dtype=theano.config.floatX))\n",
    "z = x.dot(w.T)\n",
    "update = [[w, w + 1.0]]\n",
    "\n",
    "# compile\n",
    "net_input = theano.function(inputs=[x],\n",
    "                            updates=update,\n",
    "                            outputs=z)\n",
    "# execute\n",
    "data = np.array([[1, 2, 3]], dtype=theano.config.floatX)\n",
    "\n",
    "for i in range(5):\n",
    "    print('z%d:' % i, net_input(data))"
   ]
  },
  {
   "cell_type": "code",
   "execution_count": 14,
   "metadata": {},
   "outputs": [
    {
     "name": "stdout",
     "output_type": "stream",
     "text": [
      "z: [[ 0.]]\n",
      "z: [[ 6.]]\n",
      "z: [[ 12.]]\n",
      "z: [[ 18.]]\n",
      "z: [[ 24.]]\n"
     ]
    }
   ],
   "source": [
    "# 'givens' transfers and keeps data in the network registries\n",
    "\n",
    "# initialize\n",
    "data = np.array([[1, 2, 3]], dtype=theano.config.floatX)\n",
    "x = T.fmatrix('x')\n",
    "w = theano.shared(np.asarray([[0.0, 0.0, 0.0]], dtype=theano.config.floatX))\n",
    "z = x.dot(w.T)\n",
    "update = [[w, w + 1.0]]\n",
    "\n",
    "# compile\n",
    "net_input = theano.function(inputs=[],\n",
    "                            updates=update,\n",
    "                            givens={x: data},\n",
    "                            outputs=z)\n",
    "# execute\n",
    "for i in range(5):\n",
    "    print('z:', net_input())"
   ]
  },
  {
   "cell_type": "markdown",
   "metadata": {},
   "source": [
    "# Wrapping things up – a linear regression example"
   ]
  },
  {
   "cell_type": "code",
   "execution_count": 15,
   "metadata": {
    "collapsed": true
   },
   "outputs": [],
   "source": [
    "X_train = np.asarray([[0.0], [1.0], [2.0], [3.0], [4.0], \n",
    "                      [5.0], [6.0], [7.0], [8.0], [9.0]], dtype=theano.config.floatX)\n",
    "y_train = np.asarray([1.0, 1.3, 3.1, 2.0, 5.0, \n",
    "                      6.3, 6.6, 7.4, 8.0, 9.0], dtype=theano.config.floatX)"
   ]
  },
  {
   "cell_type": "code",
   "execution_count": 16,
   "metadata": {
    "collapsed": true
   },
   "outputs": [],
   "source": [
    "import theano\n",
    "from theano import tensor as T\n",
    "import numpy as np\n",
    "\n",
    "def train_linreg(X_train, y_train, eta, epochs):\n",
    "    \n",
    "    costs = []\n",
    "    # Initialize arrays\n",
    "    eta0 = T.fscalar('eta0')\n",
    "    y = T.fvector(name='y')\n",
    "    X = T.fmatrix(name='X')\n",
    "    \n",
    "    w = theano.shared(np.zeros(shape=(X_train.shape[1] + 1), \n",
    "                               dtype=theano.config.floatX), \n",
    "                      name='w')\n",
    "    # calculate cost\n",
    "    net_input = T.dot(X, w[1:]) + w[0]\n",
    "    errors = y - net_input\n",
    "    cost = T.sum(T.pow(errors, 2))\n",
    "    # perform gradient update\n",
    "    gradient = T.grad(cost, wrt=w)\n",
    "    update = [(w, w - eta0 * gradient)]\n",
    "    # compile model\n",
    "    train = theano.function(inputs=[eta0], \n",
    "                            outputs=cost, \n",
    "                            updates=update, \n",
    "                            givens={X: X_train, y: y_train,})\n",
    "    for _ in range(epochs):\n",
    "        costs.append(train(eta))\n",
    "\n",
    "    return costs, w"
   ]
  },
  {
   "cell_type": "code",
   "execution_count": 17,
   "metadata": {},
   "outputs": [
    {
     "data": {
      "image/png": "[encoded data removed]",
      "text/plain": [
       "<matplotlib.figure.Figure at 0x7f9c6f696b00>"
      ]
     },
     "metadata": {},
     "output_type": "display_data"
    }
   ],
   "source": [
    "import matplotlib.pyplot as plt\n",
    "costs, w = train_linreg(X_train, y_train, eta=0.001, epochs=10)\n",
    "plt.plot(range(1, len(costs)+1), costs)\n",
    "plt.tight_layout()\n",
    "plt.xlabel('Epoch')\n",
    "plt.ylabel('Cost')\n",
    "plt.show()"
   ]
  },
  {
   "cell_type": "code",
   "execution_count": 18,
   "metadata": {
    "collapsed": true
   },
   "outputs": [],
   "source": [
    "def predict_linreg(X, w):\n",
    "    Xt = T.matrix(name='X')\n",
    "    net_input = T.dot(Xt, w[1:]) + w[0]\n",
    "    predict = theano.function(inputs=[Xt],\n",
    "    givens={w: w},\n",
    "    outputs=net_input)\n",
    "    return predict(X)"
   ]
  },
  {
   "cell_type": "code",
   "execution_count": 19,
   "metadata": {},
   "outputs": [
    {
     "data": {
      "image/png": "[encoded data removed]",
      "text/plain": [
       "<matplotlib.figure.Figure at 0x7f9c681bccc0>"
      ]
     },
     "metadata": {},
     "output_type": "display_data"
    }
   ],
   "source": [
    "plt.scatter(X_train, y_train, marker='s', s=50)\n",
    "plt.plot(range(X_train.shape[0]), predict_linreg(X_train, w), \n",
    "         color='gray', marker='o', markersize=4, linewidth=3)\n",
    "plt.xlabel('x')\n",
    "plt.ylabel('y')\n",
    "plt.show()"
   ]
  },
  {
   "cell_type": "markdown",
   "metadata": {},
   "source": [
    "## Choosing activation functions for feedforward neural networks\n",
    "### Logistic function recap"
   ]
  },
  {
   "cell_type": "code",
   "execution_count": 20,
   "metadata": {},
   "outputs": [
    {
     "name": "stdout",
     "output_type": "stream",
     "text": [
      "P(y=1|x) = 0.707\n"
     ]
    }
   ],
   "source": [
    "X = np.array([[1, 1.4, 1.5]])\n",
    "w = np.array([0.0, 0.2, 0.4])\n",
    "def net_input(X, w):\n",
    "    z = X.dot(w)\n",
    "    return z\n",
    "\n",
    "def logistic(z):\n",
    "    return 1.0 / (1.0 + np.exp(-z))\n",
    "\n",
    "def logistic_activation(X, w):\n",
    "    z = net_input(X, w)\n",
    "    return logistic(z)\n",
    "\n",
    "print('P(y=1|x) = %.3f' % logistic_activation(X, w)[0])"
   ]
  },
  {
   "cell_type": "code",
   "execution_count": 21,
   "metadata": {},
   "outputs": [
    {
     "name": "stdout",
     "output_type": "stream",
     "text": [
      "Probabilities:\n",
      " [[ 0.87653295]\n",
      " [ 0.57688526]\n",
      " [ 0.90114393]]\n"
     ]
    }
   ],
   "source": [
    "# W : array, shape = [n_output_units, n_hidden_units+1]\n",
    "# Weight matrix for hidden layer -> output layer.\n",
    "# note that first column (A[:][0] = 1) are the bias units\n",
    "W = np.array([[1.1, 1.2, 1.3, 0.5],\n",
    "              [0.1, 0.2, 0.4, 0.1],\n",
    "              [0.2, 0.5, 2.1, 1.9]])\n",
    "# A : array, shape = [n_hidden+1, n_samples]\n",
    "# Activation of hidden layer.\n",
    "# note that first element (A[0][0] = 1) is the bias unit\n",
    "A = np.array([[1.0],\n",
    "              [0.1],\n",
    "              [0.3],\n",
    "              [0.7]])\n",
    "# Z : array, shape = [n_output_units, n_samples]\n",
    "# Net input of the output layer.\n",
    "Z = W.dot(A)\n",
    "y_probas = logistic(Z)\n",
    "print('Probabilities:\\n', y_probas)"
   ]
  },
  {
   "cell_type": "code",
   "execution_count": 22,
   "metadata": {},
   "outputs": [
    {
     "name": "stdout",
     "output_type": "stream",
     "text": [
      "predicted class label: 2\n"
     ]
    }
   ],
   "source": [
    "y_class = np.argmax(Z, axis=0)\n",
    "print('predicted class label: %d' % y_class[0])"
   ]
  },
  {
   "cell_type": "markdown",
   "metadata": {},
   "source": [
    "## Estimating probabilities in multi-class classification via the softmax function"
   ]
  },
  {
   "cell_type": "code",
   "execution_count": 23,
   "metadata": {},
   "outputs": [
    {
     "name": "stdout",
     "output_type": "stream",
     "text": [
      "Probabilities:\n",
      " [[ 0.40386493]\n",
      " [ 0.07756222]\n",
      " [ 0.51857284]]\n"
     ]
    },
    {
     "data": {
      "text/plain": [
       "1.0"
      ]
     },
     "execution_count": 23,
     "metadata": {},
     "output_type": "execute_result"
    }
   ],
   "source": [
    "def softmax(z):\n",
    "    return np.exp(z) / np.sum(np.exp(z))\n",
    "\n",
    "def softmax_activation(X, w):\n",
    "    z = net_input(X, w)\n",
    "    return softmax(z)\n",
    "\n",
    "y_probas = softmax(Z)\n",
    "print('Probabilities:\\n', y_probas)\n",
    "y_probas.sum()"
   ]
  },
  {
   "cell_type": "code",
   "execution_count": 24,
   "metadata": {},
   "outputs": [
    {
     "name": "stdout",
     "output_type": "stream",
     "text": [
      "predicted class label: 2\n"
     ]
    }
   ],
   "source": [
    "y_class = np.argmax(Z, axis=0)\n",
    "print('predicted class label: %d' % y_class[0])"
   ]
  },
  {
   "cell_type": "markdown",
   "metadata": {},
   "source": [
    "## Broadening the output spectrum by using a hyperbolic tangent"
   ]
  },
  {
   "cell_type": "code",
   "execution_count": 25,
   "metadata": {},
   "outputs": [
    {
     "data": {
      "image/png": "[encoded data removed]",
      "text/plain": [
       "<matplotlib.figure.Figure at 0x7f9c680cbfd0>"
      ]
     },
     "metadata": {},
     "output_type": "display_data"
    }
   ],
   "source": [
    "import matplotlib.pyplot as plt\n",
    "\n",
    "def tanh(z):\n",
    "    e_p = np.exp(z)\n",
    "    e_m = np.exp(-z)\n",
    "    return (e_p - e_m) / (e_p + e_m)\n",
    "\n",
    "z = np.arange(-5, 5, 0.005)\n",
    "\n",
    "log_act = logistic(z)\n",
    "tanh_act = tanh(z)\n",
    "\n",
    "plt.ylim([-1.5, 1.5])\n",
    "plt.xlabel('net input $z$')\n",
    "plt.ylabel('activation $\\phi(z)$')\n",
    "plt.axhline(1, color='black', linestyle='--')\n",
    "plt.axhline(0.5, color='black', linestyle='--')\n",
    "plt.axhline(0, color='black', linestyle='--')\n",
    "plt.axhline(-1, color='black', linestyle='--')\n",
    "plt.plot(z, tanh_act,\n",
    "         linewidth=2,\n",
    "         color='black',\n",
    "         label='tanh')\n",
    "plt.plot(z, log_act,\n",
    "         linewidth=2,\n",
    "         color='lightgreen',\n",
    "         label='logistic')\n",
    "plt.legend(loc='lower right')\n",
    "plt.tight_layout()\n",
    "plt.show()"
   ]
  },
  {
   "cell_type": "code",
   "execution_count": 26,
   "metadata": {
    "collapsed": true
   },
   "outputs": [],
   "source": [
    "tanh_act = np.tanh(z)\n",
    "from scipy.special import expit\n",
    "log_act = expit(z)"
   ]
  },
  {
   "cell_type": "markdown",
   "metadata": {},
   "source": [
    "## Training neural networks efficiently using Keras"
   ]
  },
  {
   "cell_type": "code",
   "execution_count": 27,
   "metadata": {
    "collapsed": true
   },
   "outputs": [],
   "source": [
    "import os\n",
    "import struct\n",
    "import numpy as np\n",
    "def load_mnist(path, kind='train'):\n",
    "    \"\"\"Load MNIST data from `path`\"\"\"\n",
    "    labels_path = os.path.join(path, '%s-labels.idx1-ubyte' % kind)\n",
    "    images_path = os.path.join(path, '%s-images.idx3-ubyte' % kind)\n",
    "    with open(labels_path, 'rb') as lbpath:\n",
    "        magic, n = struct.unpack('>II', lbpath.read(8))\n",
    "        labels = np.fromfile(lbpath, dtype=np.uint8)\n",
    "    with open(images_path, 'rb') as imgpath: \n",
    "        magic, num, rows, cols = struct.unpack(\">IIII\",\n",
    "                                               imgpath.read(16))\n",
    "        images = np.fromfile(imgpath, dtype=np.uint8).reshape(len(labels), 784)\n",
    "    return images, labels"
   ]
  },
  {
   "cell_type": "code",
   "execution_count": 28,
   "metadata": {},
   "outputs": [
    {
     "name": "stdout",
     "output_type": "stream",
     "text": [
      "Rows: 60000, columns: 784\n",
      "Rows: 10000, columns: 784\n"
     ]
    }
   ],
   "source": [
    "X_train, y_train = load_mnist('./downloads/mnist', kind='train')\n",
    "print('Rows: %d, columns: %d' % (X_train.shape[0], X_train.shape[1]))\n",
    "\n",
    "X_test, y_test = load_mnist('./downloads/mnist', kind='t10k')\n",
    "print('Rows: %d, columns: %d' % (X_test.shape[0], X_test.shape[1]))"
   ]
  },
  {
   "cell_type": "code",
   "execution_count": 29,
   "metadata": {
    "collapsed": true
   },
   "outputs": [],
   "source": [
    "import theano\n",
    "theano.config.floatX = 'float32'\n",
    "X_train = X_train.astype(theano.config.floatX)\n",
    "X_test = X_test.astype(theano.config.floatX)"
   ]
  },
  {
   "cell_type": "code",
   "execution_count": 30,
   "metadata": {},
   "outputs": [
    {
     "name": "stderr",
     "output_type": "stream",
     "text": [
      "Using Theano backend.\n"
     ]
    },
    {
     "name": "stdout",
     "output_type": "stream",
     "text": [
      "First 3 labels:  [5 0 4]\n",
      "\n",
      "First 3 labels (one-hot):\n",
      " [[ 0.  0.  0.  0.  0.  1.  0.  0.  0.  0.]\n",
      " [ 1.  0.  0.  0.  0.  0.  0.  0.  0.  0.]\n",
      " [ 0.  0.  0.  0.  1.  0.  0.  0.  0.  0.]]\n"
     ]
    }
   ],
   "source": [
    "from keras.utils import np_utils\n",
    "print('First 3 labels: ', y_train[:3])\n",
    "y_train_ohe = np_utils.to_categorical(y_train)\n",
    "print('\\nFirst 3 labels (one-hot):\\n', y_train_ohe[:3])"
   ]
  },
  {
   "cell_type": "code",
   "execution_count": 31,
   "metadata": {},
   "outputs": [],
   "source": [
    "from keras.models import Sequential\n",
    "from keras.layers.core import Dense\n",
    "from keras.optimizers import SGD\n",
    "\n",
    "np.random.seed(1)\n",
    "model = Sequential()\n",
    "model.add(Dense(input_dim=X_train.shape[1],\n",
    "                units=50,\n",
    "                kernel_initializer='uniform',\n",
    "                activation='tanh'))\n",
    "model.add(Dense(input_dim=50,\n",
    "                units=50,\n",
    "                kernel_initializer='uniform',\n",
    "                activation='tanh'))\n",
    "model.add(Dense(input_dim=50,\n",
    "                units=y_train_ohe.shape[1],\n",
    "                kernel_initializer='uniform',\n",
    "                activation='softmax'))\n",
    "sgd = SGD(lr=0.001, decay=1e-7, momentum=.9)\n",
    "model.compile(loss='categorical_crossentropy', optimizer=sgd, metrics=['accuracy'])"
   ]
  },
  {
   "cell_type": "code",
   "execution_count": 32,
   "metadata": {},
   "outputs": [
    {
     "name": "stdout",
     "output_type": "stream",
     "text": [
      "Train on 54000 samples, validate on 6000 samples\n",
      "Epoch 1/50\n",
      "54000/54000 [==============================] - 2s - loss: 2.2244 - acc: 0.4250 - val_loss: 2.1018 - val_acc: 0.5730\n",
      "Epoch 2/50\n",
      "54000/54000 [==============================] - 2s - loss: 1.8741 - acc: 0.5320 - val_loss: 1.5895 - val_acc: 0.5780\n",
      "Epoch 3/50\n",
      "54000/54000 [==============================] - 2s - loss: 1.3820 - acc: 0.6151 - val_loss: 1.1457 - val_acc: 0.7172\n",
      "Epoch 4/50\n",
      "54000/54000 [==============================] - 2s - loss: 1.0404 - acc: 0.7196 - val_loss: 0.8644 - val_acc: 0.7940\n",
      "Epoch 5/50\n",
      "54000/54000 [==============================] - 2s - loss: 0.8205 - acc: 0.7934 - val_loss: 0.6877 - val_acc: 0.8472\n",
      "Epoch 6/50\n",
      "54000/54000 [==============================] - 2s - loss: 0.6786 - acc: 0.8348 - val_loss: 0.5736 - val_acc: 0.8745\n",
      "Epoch 7/50\n",
      "54000/54000 [==============================] - 2s - loss: 0.5804 - acc: 0.8591 - val_loss: 0.5010 - val_acc: 0.8820\n",
      "Epoch 8/50\n",
      "54000/54000 [==============================] - 2s - loss: 0.5180 - acc: 0.8722 - val_loss: 0.4430 - val_acc: 0.8977\n",
      "Epoch 9/50\n",
      "54000/54000 [==============================] - 2s - loss: 0.4701 - acc: 0.8830 - val_loss: 0.4025 - val_acc: 0.9025\n",
      "Epoch 10/50\n",
      "54000/54000 [==============================] - 2s - loss: 0.4334 - acc: 0.8893 - val_loss: 0.3774 - val_acc: 0.9075\n",
      "Epoch 11/50\n",
      "54000/54000 [==============================] - 2s - loss: 0.4088 - acc: 0.8953 - val_loss: 0.3540 - val_acc: 0.9105\n",
      "Epoch 12/50\n",
      "54000/54000 [==============================] - 2s - loss: 0.3831 - acc: 0.9010 - val_loss: 0.3312 - val_acc: 0.9158\n",
      "Epoch 13/50\n",
      "54000/54000 [==============================] - 2s - loss: 0.3655 - acc: 0.9038 - val_loss: 0.3133 - val_acc: 0.9192\n",
      "Epoch 14/50\n",
      "54000/54000 [==============================] - 2s - loss: 0.3496 - acc: 0.9074 - val_loss: 0.3072 - val_acc: 0.9207\n",
      "Epoch 15/50\n",
      "54000/54000 [==============================] - 2s - loss: 0.3358 - acc: 0.9108 - val_loss: 0.2938 - val_acc: 0.9233\n",
      "Epoch 16/50\n",
      "54000/54000 [==============================] - 2s - loss: 0.3287 - acc: 0.9118 - val_loss: 0.2868 - val_acc: 0.9252\n",
      "Epoch 17/50\n",
      "54000/54000 [==============================] - 2s - loss: 0.3250 - acc: 0.9110 - val_loss: 0.2780 - val_acc: 0.9282\n",
      "Epoch 18/50\n",
      "54000/54000 [==============================] - 2s - loss: 0.3094 - acc: 0.9162 - val_loss: 0.2820 - val_acc: 0.9265\n",
      "Epoch 19/50\n",
      "54000/54000 [==============================] - 2s - loss: 0.3064 - acc: 0.9161 - val_loss: 0.2689 - val_acc: 0.9275\n",
      "Epoch 20/50\n",
      "54000/54000 [==============================] - 2s - loss: 0.2938 - acc: 0.9180 - val_loss: 0.2583 - val_acc: 0.9300\n",
      "Epoch 21/50\n",
      "54000/54000 [==============================] - 2s - loss: 0.2844 - acc: 0.9217 - val_loss: 0.2445 - val_acc: 0.9322\n",
      "Epoch 22/50\n",
      "54000/54000 [==============================] - 2s - loss: 0.2820 - acc: 0.9214 - val_loss: 0.2431 - val_acc: 0.9335\n",
      "Epoch 23/50\n",
      "54000/54000 [==============================] - 2s - loss: 0.2792 - acc: 0.9220 - val_loss: 0.2405 - val_acc: 0.9343\n",
      "Epoch 24/50\n",
      "54000/54000 [==============================] - 2s - loss: 0.2677 - acc: 0.9238 - val_loss: 0.2470 - val_acc: 0.9303\n",
      "Epoch 25/50\n",
      "54000/54000 [==============================] - 2s - loss: 0.2689 - acc: 0.9241 - val_loss: 0.2438 - val_acc: 0.9325\n",
      "Epoch 26/50\n",
      "54000/54000 [==============================] - 2s - loss: 0.2664 - acc: 0.9248 - val_loss: 0.2311 - val_acc: 0.9380\n",
      "Epoch 27/50\n",
      "54000/54000 [==============================] - 2s - loss: 0.2641 - acc: 0.9241 - val_loss: 0.2329 - val_acc: 0.9363\n",
      "Epoch 28/50\n",
      "54000/54000 [==============================] - 2s - loss: 0.2573 - acc: 0.9267 - val_loss: 0.2205 - val_acc: 0.9388\n",
      "Epoch 29/50\n",
      "54000/54000 [==============================] - 2s - loss: 0.2489 - acc: 0.9294 - val_loss: 0.2214 - val_acc: 0.9403\n",
      "Epoch 30/50\n",
      "54000/54000 [==============================] - 2s - loss: 0.2436 - acc: 0.9306 - val_loss: 0.2197 - val_acc: 0.9425\n",
      "Epoch 31/50\n",
      "54000/54000 [==============================] - 2s - loss: 0.2434 - acc: 0.9310 - val_loss: 0.2160 - val_acc: 0.9417\n",
      "Epoch 32/50\n",
      "54000/54000 [==============================] - 2s - loss: 0.2414 - acc: 0.9312 - val_loss: 0.2170 - val_acc: 0.9412\n",
      "Epoch 33/50\n",
      "54000/54000 [==============================] - 2s - loss: 0.2335 - acc: 0.9342 - val_loss: 0.2080 - val_acc: 0.9435\n",
      "Epoch 34/50\n",
      "54000/54000 [==============================] - 2s - loss: 0.2315 - acc: 0.9336 - val_loss: 0.2039 - val_acc: 0.9452\n",
      "Epoch 35/50\n",
      "54000/54000 [==============================] - 2s - loss: 0.2259 - acc: 0.9371 - val_loss: 0.1995 - val_acc: 0.9478\n",
      "Epoch 36/50\n",
      "54000/54000 [==============================] - 2s - loss: 0.2237 - acc: 0.9364 - val_loss: 0.2044 - val_acc: 0.9420\n",
      "Epoch 37/50\n",
      "54000/54000 [==============================] - 2s - loss: 0.2268 - acc: 0.9351 - val_loss: 0.2014 - val_acc: 0.9428\n",
      "Epoch 38/50\n",
      "54000/54000 [==============================] - 2s - loss: 0.2221 - acc: 0.9357 - val_loss: 0.1939 - val_acc: 0.9465\n",
      "Epoch 39/50\n",
      "54000/54000 [==============================] - 2s - loss: 0.2236 - acc: 0.9353 - val_loss: 0.1924 - val_acc: 0.9487\n",
      "Epoch 40/50\n",
      "54000/54000 [==============================] - 2s - loss: 0.2146 - acc: 0.9384 - val_loss: 0.2006 - val_acc: 0.9417\n",
      "Epoch 41/50\n",
      "54000/54000 [==============================] - 2s - loss: 0.2122 - acc: 0.9393 - val_loss: 0.2001 - val_acc: 0.9402\n",
      "Epoch 42/50\n",
      "54000/54000 [==============================] - 2s - loss: 0.2186 - acc: 0.9369 - val_loss: 0.1919 - val_acc: 0.9480\n",
      "Epoch 43/50\n",
      "54000/54000 [==============================] - 2s - loss: 0.2116 - acc: 0.9393 - val_loss: 0.1833 - val_acc: 0.9510\n",
      "Epoch 44/50\n",
      "54000/54000 [==============================] - 2s - loss: 0.2128 - acc: 0.9385 - val_loss: 0.1949 - val_acc: 0.9432\n",
      "Epoch 45/50\n",
      "54000/54000 [==============================] - 2s - loss: 0.2054 - acc: 0.9407 - val_loss: 0.1852 - val_acc: 0.9482\n",
      "Epoch 46/50\n",
      "54000/54000 [==============================] - 2s - loss: 0.2063 - acc: 0.9403 - val_loss: 0.1851 - val_acc: 0.9457\n",
      "Epoch 47/50\n",
      "54000/54000 [==============================] - 2s - loss: 0.2045 - acc: 0.9408 - val_loss: 0.1730 - val_acc: 0.9505\n",
      "Epoch 48/50\n",
      "54000/54000 [==============================] - 2s - loss: 0.2106 - acc: 0.9386 - val_loss: 0.1870 - val_acc: 0.9480\n",
      "Epoch 49/50\n",
      "54000/54000 [==============================] - 2s - loss: 0.2058 - acc: 0.9394 - val_loss: 0.1879 - val_acc: 0.9465\n",
      "Epoch 50/50\n",
      "54000/54000 [==============================] - 2s - loss: 0.1988 - acc: 0.9417 - val_loss: 0.1823 - val_acc: 0.9452\n"
     ]
    },
    {
     "data": {
      "text/plain": [
       "<keras.callbacks.History at 0x7f9c539a1cf8>"
      ]
     },
     "execution_count": 32,
     "metadata": {},
     "output_type": "execute_result"
    }
   ],
   "source": [
    "model.fit(X_train,\n",
    "          y_train_ohe,\n",
    "          epochs=50,\n",
    "          batch_size=300,\n",
    "          verbose=1,\n",
    "          validation_split=0.1)"
   ]
  },
  {
   "cell_type": "code",
   "execution_count": 33,
   "metadata": {},
   "outputs": [
    {
     "name": "stdout",
     "output_type": "stream",
     "text": [
      "First 3 predictions:  [5 0 4]\n",
      "Training accuracy: 94.15%\n",
      "Test accuracy: 93.76%\n"
     ]
    }
   ],
   "source": [
    "y_train_pred = model.predict_classes(X_train, verbose=0)\n",
    "print('First 3 predictions: ', y_train_pred[:3])\n",
    "\n",
    "train_acc = np.sum(y_train == y_train_pred, axis=0) / X_train.shape[0]\n",
    "print('Training accuracy: %.2f%%' % (train_acc * 100))\n",
    "\n",
    "y_test_pred = model.predict_classes(X_test, verbose=0)\n",
    "test_acc = np.sum(y_test == y_test_pred, axis=0) / X_test.shape[0]\n",
    "print('Test accuracy: %.2f%%' % (test_acc * 100))"
   ]
  }
 ],
 "metadata": {
  "kernelspec": {
   "display_name": "Python 3",
   "language": "python",
   "name": "python3"
  },
  "language_info": {
   "codemirror_mode": {
    "name": "ipython",
    "version": 3
   },
   "file_extension": ".py",
   "mimetype": "text/x-python",
   "name": "python",
   "nbconvert_exporter": "python",
   "pygments_lexer": "ipython3",
   "version": "3.5.2"
  }
 },
 "nbformat": 4,
 "nbformat_minor": 2
}
