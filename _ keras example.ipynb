{
 "cells": [
  {
   "cell_type": "code",
   "execution_count": 2,
   "metadata": {
    "collapsed": true
   },
   "outputs": [],
   "source": [
    "from sklearn import datasets\n",
    "\n",
    "mnist = datasets.load_digits()\n",
    "X = mnist.data\n",
    "Y = mnist.target"
   ]
  },
  {
   "cell_type": "code",
   "execution_count": 4,
   "metadata": {
    "collapsed": false
   },
   "outputs": [
    {
     "name": "stdout",
     "output_type": "stream",
     "text": [
      "(1797, 64) (1797,)\n",
      "[  0.   0.   5.  13.   9.   1.   0.   0.   0.   0.  13.  15.  10.  15.   5.\n",
      "   0.   0.   3.  15.   2.   0.  11.   8.   0.   0.   4.  12.   0.   0.   8.\n",
      "   8.   0.   0.   5.   8.   0.   0.   9.   8.   0.   0.   4.  11.   0.   1.\n",
      "  12.   7.   0.   0.   2.  14.   5.  10.  12.   0.   0.   0.   0.   6.  13.\n",
      "  10.   0.   0.   0.]\n",
      "0\n"
     ]
    }
   ],
   "source": [
    "print(X.shape, Y.shape)\n",
    "print(X[0])\n",
    "print(Y[0])"
   ]
  },
  {
   "cell_type": "code",
   "execution_count": 6,
   "metadata": {
    "collapsed": false
   },
   "outputs": [],
   "source": [
    "import numpy as np\n",
    "\n",
    "# set seed\n",
    "np.random.seed(1234)"
   ]
  },
  {
   "cell_type": "code",
   "execution_count": 7,
   "metadata": {
    "collapsed": true
   },
   "outputs": [],
   "source": [
    "from sklearn.model_selection import train_test_split\n",
    "train_X, test_X, train_y, test_y = train_test_split(X, Y, train_size=0.7, random_state=0)"
   ]
  },
  {
   "cell_type": "code",
   "execution_count": 24,
   "metadata": {
    "collapsed": false
   },
   "outputs": [],
   "source": [
    "from keras.utils import np_utils\n",
    "\n",
    "def one_hot_encode_object_array(arr):\n",
    "    '''One hot encode a numpy array of objects (e.g. strings)'''\n",
    "    uniques, ids = np.unique(arr, return_inverse=True)\n",
    "    return np_utils.to_categorical(ids, len(uniques))\n",
    "\n",
    "# One hot encode labels for training and test sets.\n",
    "train_y_ohe = one_hot_encode_object_array(train_y)\n",
    "test_y_ohe = one_hot_encode_object_array(test_y)"
   ]
  },
  {
   "cell_type": "code",
   "execution_count": 25,
   "metadata": {
    "collapsed": true
   },
   "outputs": [],
   "source": [
    "from keras.models import Sequential\n",
    "from keras.layers import Dense, Activation\n",
    "from keras.utils import np_utils"
   ]
  },
  {
   "cell_type": "code",
   "execution_count": 66,
   "metadata": {
    "collapsed": true
   },
   "outputs": [],
   "source": [
    "model = Sequential()\n",
    "model.add(Dense(16, input_shape=(64,)))\n",
    "model.add(Activation('sigmoid'))\n",
    "model.add(Dense(10))\n",
    "model.add(Activation('softmax'))"
   ]
  },
  {
   "cell_type": "code",
   "execution_count": 68,
   "metadata": {
    "collapsed": false
   },
   "outputs": [
    {
     "name": "stdout",
     "output_type": "stream",
     "text": [
      "Epoch 1/200\n",
      "1257/1257 [==============================] - 0s - loss: 2.5084 - acc: 0.0517 - precision: 0.0000e+00     \n",
      "Epoch 2/200\n",
      "1257/1257 [==============================] - 0s - loss: 2.3038 - acc: 0.0939 - precision: 0.0000e+00     \n",
      "Epoch 3/200\n",
      "1257/1257 [==============================] - 0s - loss: 2.1523 - acc: 0.1575 - precision: 0.0000e+00     \n",
      "Epoch 4/200\n",
      "1257/1257 [==============================] - 0s - loss: 2.0292 - acc: 0.3007 - precision: 0.0000e+00     \n",
      "Epoch 5/200\n",
      "1257/1257 [==============================] - 0s - loss: 1.9252 - acc: 0.4121 - precision: 0.0000e+00     \n",
      "Epoch 6/200\n",
      "1257/1257 [==============================] - 0s - loss: 1.8450 - acc: 0.4829 - precision: 0.0000e+00     \n",
      "Epoch 7/200\n",
      "1257/1257 [==============================] - 0s - loss: 1.7773 - acc: 0.5354 - precision: 0.0000e+00     \n",
      "Epoch 8/200\n",
      "1257/1257 [==============================] - 0s - loss: 1.7135 - acc: 0.5839 - precision: 0.0000e+00     \n",
      "Epoch 9/200\n",
      "1257/1257 [==============================] - 0s - loss: 1.6520 - acc: 0.6285 - precision: 0.0000e+00     \n",
      "Epoch 10/200\n",
      "1257/1257 [==============================] - 0s - loss: 1.5886 - acc: 0.6897 - precision: 0.0000e+00     \n",
      "Epoch 11/200\n",
      "1257/1257 [==============================] - 0s - loss: 1.5266 - acc: 0.7534 - precision: 0.0000e+00     \n",
      "Epoch 12/200\n",
      "1257/1257 [==============================] - 0s - loss: 1.4681 - acc: 0.7757 - precision: 0.0453         \n",
      "Epoch 13/200\n",
      "1257/1257 [==============================] - 0s - loss: 1.4120 - acc: 0.8083 - precision: 0.1249         \n",
      "Epoch 14/200\n",
      "1257/1257 [==============================] - 0s - loss: 1.3575 - acc: 0.8234 - precision: 0.4773         \n",
      "Epoch 15/200\n",
      "1257/1257 [==============================] - 0s - loss: 1.3062 - acc: 0.8417 - precision: 0.7160     \n",
      "Epoch 16/200\n",
      "1257/1257 [==============================] - 0s - loss: 1.2576 - acc: 0.8520 - precision: 0.8751     \n",
      "Epoch 17/200\n",
      "1257/1257 [==============================] - 0s - loss: 1.2113 - acc: 0.8568 - precision: 1.0000     \n",
      "Epoch 18/200\n",
      "1257/1257 [==============================] - 0s - loss: 1.1683 - acc: 0.8648 - precision: 1.0000     \n",
      "Epoch 19/200\n",
      "1257/1257 [==============================] - 0s - loss: 1.1268 - acc: 0.8767 - precision: 1.0000     \n",
      "Epoch 20/200\n",
      "1257/1257 [==============================] - 0s - loss: 1.0888 - acc: 0.8799 - precision: 1.0000     \n",
      "Epoch 21/200\n",
      "1257/1257 [==============================] - 0s - loss: 1.0517 - acc: 0.8862 - precision: 1.0000     \n",
      "Epoch 22/200\n",
      "1257/1257 [==============================] - 0s - loss: 1.0171 - acc: 0.8934 - precision: 1.0000     \n",
      "Epoch 23/200\n",
      "1257/1257 [==============================] - 0s - loss: 0.9837 - acc: 0.8990 - precision: 1.0000     \n",
      "Epoch 24/200\n",
      "1257/1257 [==============================] - 0s - loss: 0.9527 - acc: 0.8990 - precision: 1.0000     \n",
      "Epoch 25/200\n",
      "1257/1257 [==============================] - 0s - loss: 0.9216 - acc: 0.9053 - precision: 1.0000     \n",
      "Epoch 26/200\n",
      "1257/1257 [==============================] - 0s - loss: 0.8928 - acc: 0.9093 - precision: 1.0000     \n",
      "Epoch 27/200\n",
      "1257/1257 [==============================] - 0s - loss: 0.8652 - acc: 0.9133 - precision: 1.0000     \n",
      "Epoch 28/200\n",
      "1257/1257 [==============================] - 0s - loss: 0.8382 - acc: 0.9181 - precision: 1.0000     \n",
      "Epoch 29/200\n",
      "1257/1257 [==============================] - 0s - loss: 0.8127 - acc: 0.9149 - precision: 1.0000     \n",
      "Epoch 30/200\n",
      "1257/1257 [==============================] - 0s - loss: 0.7893 - acc: 0.9173 - precision: 1.0000     \n",
      "Epoch 31/200\n",
      "1257/1257 [==============================] - 0s - loss: 0.7663 - acc: 0.9252 - precision: 1.0000     \n",
      "Epoch 32/200\n",
      "1257/1257 [==============================] - 0s - loss: 0.7453 - acc: 0.9244 - precision: 1.0000     \n",
      "Epoch 33/200\n",
      "1257/1257 [==============================] - 0s - loss: 0.7249 - acc: 0.9300 - precision: 0.9987     \n",
      "Epoch 34/200\n",
      "1257/1257 [==============================] - 0s - loss: 0.7048 - acc: 0.9316 - precision: 1.0000     \n",
      "Epoch 35/200\n",
      "1257/1257 [==============================] - 0s - loss: 0.6857 - acc: 0.9348 - precision: 1.0000     \n",
      "Epoch 36/200\n",
      "1257/1257 [==============================] - 0s - loss: 0.6686 - acc: 0.9340 - precision: 0.9988     \n",
      "Epoch 37/200\n",
      "1257/1257 [==============================] - 0s - loss: 0.6506 - acc: 0.9411 - precision: 0.9977     \n",
      "Epoch 38/200\n",
      "1257/1257 [==============================] - 0s - loss: 0.6337 - acc: 0.9435 - precision: 0.9978     \n",
      "Epoch 39/200\n",
      "1257/1257 [==============================] - 0s - loss: 0.6176 - acc: 0.9435 - precision: 0.9978     \n",
      "Epoch 40/200\n",
      "1257/1257 [==============================] - 0s - loss: 0.6026 - acc: 0.9435 - precision: 0.9978     \n",
      "Epoch 41/200\n",
      "1257/1257 [==============================] - 0s - loss: 0.5871 - acc: 0.9459 - precision: 0.9969     \n",
      "Epoch 42/200\n",
      "1257/1257 [==============================] - 0s - loss: 0.5730 - acc: 0.9467 - precision: 0.9968     \n",
      "Epoch 43/200\n",
      "1257/1257 [==============================] - 0s - loss: 0.5595 - acc: 0.9515 - precision: 0.9969     \n",
      "Epoch 44/200\n",
      "1257/1257 [==============================] - 0s - loss: 0.5457 - acc: 0.9523 - precision: 0.9971     \n",
      "Epoch 45/200\n",
      "1257/1257 [==============================] - 0s - loss: 0.5326 - acc: 0.9531 - precision: 0.9970     \n",
      "Epoch 46/200\n",
      "1257/1257 [==============================] - 0s - loss: 0.5206 - acc: 0.9515 - precision: 0.9971     \n",
      "Epoch 47/200\n",
      "1257/1257 [==============================] - 0s - loss: 0.5093 - acc: 0.9531 - precision: 0.9971     \n",
      "Epoch 48/200\n",
      "1257/1257 [==============================] - 0s - loss: 0.4975 - acc: 0.9562 - precision: 0.9962     \n",
      "Epoch 49/200\n",
      "1257/1257 [==============================] - 0s - loss: 0.4859 - acc: 0.9539 - precision: 0.9952     \n",
      "Epoch 50/200\n",
      "1257/1257 [==============================] - 0s - loss: 0.4751 - acc: 0.9570 - precision: 0.9953     \n",
      "Epoch 51/200\n",
      "1257/1257 [==============================] - 0s - loss: 0.4656 - acc: 0.9586 - precision: 0.9962     \n",
      "Epoch 52/200\n",
      "1257/1257 [==============================] - 0s - loss: 0.4552 - acc: 0.9562 - precision: 0.9962     \n",
      "Epoch 53/200\n",
      "1257/1257 [==============================] - 0s - loss: 0.4454 - acc: 0.9570 - precision: 0.9953     \n",
      "Epoch 54/200\n",
      "1257/1257 [==============================] - 0s - loss: 0.4371 - acc: 0.9618 - precision: 0.9963     \n",
      "Epoch 55/200\n",
      "1257/1257 [==============================] - 0s - loss: 0.4284 - acc: 0.9610 - precision: 0.9945     \n",
      "Epoch 56/200\n",
      "1257/1257 [==============================] - 0s - loss: 0.4179 - acc: 0.9626 - precision: 0.9954     \n",
      "Epoch 57/200\n",
      "1257/1257 [==============================] - 0s - loss: 0.4094 - acc: 0.9626 - precision: 0.9954     \n",
      "Epoch 58/200\n",
      "1257/1257 [==============================] - 0s - loss: 0.4008 - acc: 0.9618 - precision: 0.9955     \n",
      "Epoch 59/200\n",
      "1257/1257 [==============================] - 0s - loss: 0.3924 - acc: 0.9650 - precision: 0.9956     \n",
      "Epoch 60/200\n",
      "1257/1257 [==============================] - 0s - loss: 0.3838 - acc: 0.9650 - precision: 0.9956     \n",
      "Epoch 61/200\n",
      "1257/1257 [==============================] - 0s - loss: 0.3759 - acc: 0.9642 - precision: 0.9964     \n",
      "Epoch 62/200\n",
      "1257/1257 [==============================] - 0s - loss: 0.3685 - acc: 0.9682 - precision: 0.9956     \n",
      "Epoch 63/200\n",
      "1257/1257 [==============================] - 0s - loss: 0.3621 - acc: 0.9666 - precision: 0.9928     \n",
      "Epoch 64/200\n",
      "1257/1257 [==============================] - 0s - loss: 0.3544 - acc: 0.9682 - precision: 0.9947     \n",
      "Epoch 65/200\n",
      "1257/1257 [==============================] - 0s - loss: 0.3477 - acc: 0.9698 - precision: 0.9938     \n",
      "Epoch 66/200\n",
      "1257/1257 [==============================] - 0s - loss: 0.3411 - acc: 0.9698 - precision: 0.9939     \n",
      "Epoch 67/200\n",
      "1257/1257 [==============================] - 0s - loss: 0.3356 - acc: 0.9674 - precision: 0.9948     \n",
      "Epoch 68/200\n",
      "1257/1257 [==============================] - 0s - loss: 0.3284 - acc: 0.9706 - precision: 0.9947     \n",
      "Epoch 69/200\n",
      "1257/1257 [==============================] - 0s - loss: 0.3227 - acc: 0.9706 - precision: 0.9940     \n",
      "Epoch 70/200\n",
      "1257/1257 [==============================] - 0s - loss: 0.3182 - acc: 0.9666 - precision: 0.9931     \n",
      "Epoch 71/200\n",
      "1257/1257 [==============================] - 0s - loss: 0.3119 - acc: 0.9706 - precision: 0.9948     \n",
      "Epoch 72/200\n",
      "1257/1257 [==============================] - 0s - loss: 0.3054 - acc: 0.9714 - precision: 0.9931     \n",
      "Epoch 73/200\n",
      "1257/1257 [==============================] - 0s - loss: 0.3003 - acc: 0.9714 - precision: 0.9949     \n",
      "Epoch 74/200\n",
      "1257/1257 [==============================] - 0s - loss: 0.2949 - acc: 0.9714 - precision: 0.9932     \n",
      "Epoch 75/200\n",
      "1257/1257 [==============================] - 0s - loss: 0.2900 - acc: 0.9714 - precision: 0.9932     \n",
      "Epoch 76/200\n",
      "1257/1257 [==============================] - 0s - loss: 0.2851 - acc: 0.9706 - precision: 0.9942     \n",
      "Epoch 77/200\n",
      "1257/1257 [==============================] - 0s - loss: 0.2805 - acc: 0.9730 - precision: 0.9932     \n",
      "Epoch 78/200\n",
      "1257/1257 [==============================] - 0s - loss: 0.2758 - acc: 0.9714 - precision: 0.9941     \n",
      "Epoch 79/200\n",
      "1257/1257 [==============================] - 0s - loss: 0.2710 - acc: 0.9737 - precision: 0.9932     \n",
      "Epoch 80/200\n",
      "1257/1257 [==============================] - 0s - loss: 0.2668 - acc: 0.9722 - precision: 0.9924     \n",
      "Epoch 81/200\n",
      "1257/1257 [==============================] - 0s - loss: 0.2620 - acc: 0.9737 - precision: 0.9941     \n",
      "Epoch 82/200\n",
      "1257/1257 [==============================] - 0s - loss: 0.2580 - acc: 0.9745 - precision: 0.9932     \n",
      "Epoch 83/200\n",
      "1257/1257 [==============================] - 0s - loss: 0.2536 - acc: 0.9745 - precision: 0.9941     \n",
      "Epoch 84/200\n",
      "1257/1257 [==============================] - 0s - loss: 0.2498 - acc: 0.9753 - precision: 0.9958     \n",
      "Epoch 85/200\n",
      "1257/1257 [==============================] - 0s - loss: 0.2459 - acc: 0.9761 - precision: 0.9933     \n",
      "Epoch 86/200\n",
      "1257/1257 [==============================] - 0s - loss: 0.2413 - acc: 0.9745 - precision: 0.9958     \n",
      "Epoch 87/200\n",
      "1257/1257 [==============================] - 0s - loss: 0.2385 - acc: 0.9777 - precision: 0.9950     \n",
      "Epoch 88/200\n",
      "1257/1257 [==============================] - 0s - loss: 0.2342 - acc: 0.9777 - precision: 0.9949     \n",
      "Epoch 89/200\n",
      "1257/1257 [==============================] - 0s - loss: 0.2305 - acc: 0.9777 - precision: 0.9950     \n",
      "Epoch 90/200\n",
      "1257/1257 [==============================] - 0s - loss: 0.2281 - acc: 0.9753 - precision: 0.9941     \n",
      "Epoch 91/200\n",
      "1257/1257 [==============================] - 0s - loss: 0.2244 - acc: 0.9785 - precision: 0.9942     \n",
      "Epoch 92/200\n",
      "1257/1257 [==============================] - 0s - loss: 0.2211 - acc: 0.9777 - precision: 0.9958     \n",
      "Epoch 93/200\n",
      "1257/1257 [==============================] - 0s - loss: 0.2181 - acc: 0.9785 - precision: 0.9950     \n",
      "Epoch 94/200\n",
      "1257/1257 [==============================] - 0s - loss: 0.2145 - acc: 0.9801 - precision: 0.9959     \n",
      "Epoch 95/200\n",
      "1257/1257 [==============================] - 0s - loss: 0.2115 - acc: 0.9793 - precision: 0.9966     \n",
      "Epoch 96/200\n",
      "1257/1257 [==============================] - 0s - loss: 0.2077 - acc: 0.9801 - precision: 0.9950     \n",
      "Epoch 97/200\n",
      "1257/1257 [==============================] - 0s - loss: 0.2053 - acc: 0.9801 - precision: 0.9951     \n",
      "Epoch 98/200\n",
      "1257/1257 [==============================] - 0s - loss: 0.2025 - acc: 0.9809 - precision: 0.9951     \n",
      "Epoch 99/200\n",
      "1257/1257 [==============================] - 0s - loss: 0.1996 - acc: 0.9817 - precision: 0.9950     \n",
      "Epoch 100/200\n",
      "1257/1257 [==============================] - 0s - loss: 0.1966 - acc: 0.9825 - precision: 0.9958     \n",
      "Epoch 101/200\n",
      "1257/1257 [==============================] - 0s - loss: 0.1946 - acc: 0.9817 - precision: 0.9950     \n",
      "Epoch 102/200\n",
      "1257/1257 [==============================] - 0s - loss: 0.1916 - acc: 0.9825 - precision: 0.9959     \n",
      "Epoch 103/200\n",
      "1257/1257 [==============================] - 0s - loss: 0.1890 - acc: 0.9825 - precision: 0.9959     \n",
      "Epoch 104/200\n",
      "1257/1257 [==============================] - 0s - loss: 0.1872 - acc: 0.9817 - precision: 0.9958     \n",
      "Epoch 105/200\n",
      "1257/1257 [==============================] - 0s - loss: 0.1840 - acc: 0.9817 - precision: 0.9967     \n",
      "Epoch 106/200\n",
      "1257/1257 [==============================] - 0s - loss: 0.1818 - acc: 0.9833 - precision: 0.9958     \n",
      "Epoch 107/200\n",
      "1257/1257 [==============================] - 0s - loss: 0.1791 - acc: 0.9825 - precision: 0.9966     \n",
      "Epoch 108/200\n",
      "1257/1257 [==============================] - 0s - loss: 0.1770 - acc: 0.9825 - precision: 0.9966     \n",
      "Epoch 109/200\n",
      "1257/1257 [==============================] - 0s - loss: 0.1748 - acc: 0.9833 - precision: 0.9967     \n",
      "Epoch 110/200\n",
      "1257/1257 [==============================] - 0s - loss: 0.1731 - acc: 0.9857 - precision: 0.9959     \n",
      "Epoch 111/200\n",
      "1257/1257 [==============================] - 0s - loss: 0.1710 - acc: 0.9849 - precision: 0.9976     \n",
      "Epoch 112/200\n",
      "1257/1257 [==============================] - 0s - loss: 0.1683 - acc: 0.9849 - precision: 0.9966     \n",
      "Epoch 113/200\n",
      "1257/1257 [==============================] - 0s - loss: 0.1667 - acc: 0.9833 - precision: 0.9958     \n",
      "Epoch 114/200\n",
      "1257/1257 [==============================] - 0s - loss: 0.1644 - acc: 0.9841 - precision: 0.9967     \n",
      "Epoch 115/200\n",
      "1257/1257 [==============================] - 0s - loss: 0.1628 - acc: 0.9841 - precision: 0.9975     \n",
      "Epoch 116/200\n",
      "1257/1257 [==============================] - 0s - loss: 0.1602 - acc: 0.9865 - precision: 0.9967     \n",
      "Epoch 117/200\n",
      "1257/1257 [==============================] - 0s - loss: 0.1583 - acc: 0.9865 - precision: 0.9975     \n",
      "Epoch 118/200\n",
      "1257/1257 [==============================] - 0s - loss: 0.1563 - acc: 0.9849 - precision: 0.9976     \n",
      "Epoch 119/200\n",
      "1257/1257 [==============================] - 0s - loss: 0.1547 - acc: 0.9873 - precision: 0.9975     \n",
      "Epoch 120/200\n",
      "1257/1257 [==============================] - 0s - loss: 0.1531 - acc: 0.9849 - precision: 0.9975     \n",
      "Epoch 121/200\n",
      "1257/1257 [==============================] - 0s - loss: 0.1508 - acc: 0.9841 - precision: 0.9967     \n",
      "Epoch 122/200\n",
      "1257/1257 [==============================] - 0s - loss: 0.1489 - acc: 0.9857 - precision: 0.9976     \n",
      "Epoch 123/200\n",
      "1257/1257 [==============================] - 0s - loss: 0.1477 - acc: 0.9865 - precision: 0.9984     \n",
      "Epoch 124/200\n",
      "1257/1257 [==============================] - 0s - loss: 0.1461 - acc: 0.9849 - precision: 0.9975     \n",
      "Epoch 125/200\n",
      "1257/1257 [==============================] - 0s - loss: 0.1439 - acc: 0.9857 - precision: 0.9984     \n",
      "Epoch 126/200\n",
      "1257/1257 [==============================] - 0s - loss: 0.1423 - acc: 0.9881 - precision: 0.9984     \n",
      "Epoch 127/200\n",
      "1257/1257 [==============================] - 0s - loss: 0.1413 - acc: 0.9873 - precision: 0.9967     \n",
      "Epoch 128/200\n",
      "1257/1257 [==============================] - 0s - loss: 0.1398 - acc: 0.9889 - precision: 0.9974     \n",
      "Epoch 129/200\n",
      "1257/1257 [==============================] - 0s - loss: 0.1373 - acc: 0.9881 - precision: 0.9984     \n",
      "Epoch 130/200\n",
      "1257/1257 [==============================] - 0s - loss: 0.1364 - acc: 0.9873 - precision: 0.9984     \n",
      "Epoch 131/200\n",
      "1257/1257 [==============================] - 0s - loss: 0.1347 - acc: 0.9889 - precision: 0.9984     \n",
      "Epoch 132/200\n",
      "1257/1257 [==============================] - 0s - loss: 0.1336 - acc: 0.9905 - precision: 0.9984     \n",
      "Epoch 133/200\n",
      "1257/1257 [==============================] - 0s - loss: 0.1315 - acc: 0.9912 - precision: 0.9984     \n",
      "Epoch 134/200\n",
      "1257/1257 [==============================] - 0s - loss: 0.1305 - acc: 0.9905 - precision: 0.9976     \n",
      "Epoch 135/200\n",
      "1257/1257 [==============================] - 0s - loss: 0.1286 - acc: 0.9905 - precision: 0.9984     \n",
      "Epoch 136/200\n",
      "1257/1257 [==============================] - 0s - loss: 0.1282 - acc: 0.9920 - precision: 0.9984     \n",
      "Epoch 137/200\n",
      "1257/1257 [==============================] - 0s - loss: 0.1269 - acc: 0.9905 - precision: 0.9983     \n",
      "Epoch 138/200\n",
      "1257/1257 [==============================] - 0s - loss: 0.1251 - acc: 0.9912 - precision: 0.9984     \n",
      "Epoch 139/200\n",
      "1257/1257 [==============================] - 0s - loss: 0.1237 - acc: 0.9928 - precision: 0.9976     \n",
      "Epoch 140/200\n",
      "1257/1257 [==============================] - 0s - loss: 0.1223 - acc: 0.9928 - precision: 0.9975     \n",
      "Epoch 141/200\n",
      "1257/1257 [==============================] - 0s - loss: 0.1207 - acc: 0.9936 - precision: 0.9984     \n",
      "Epoch 142/200\n",
      "1257/1257 [==============================] - 0s - loss: 0.1196 - acc: 0.9920 - precision: 0.9992     \n",
      "Epoch 143/200\n",
      "1257/1257 [==============================] - 0s - loss: 0.1184 - acc: 0.9920 - precision: 0.9992     \n",
      "Epoch 144/200\n",
      "1257/1257 [==============================] - 0s - loss: 0.1170 - acc: 0.9928 - precision: 0.9975     \n",
      "Epoch 145/200\n",
      "1257/1257 [==============================] - 0s - loss: 0.1171 - acc: 0.9920 - precision: 0.9984     \n",
      "Epoch 146/200\n",
      "1257/1257 [==============================] - 0s - loss: 0.1146 - acc: 0.9936 - precision: 0.9975     \n",
      "Epoch 147/200\n",
      "1257/1257 [==============================] - 0s - loss: 0.1137 - acc: 0.9920 - precision: 0.9983     \n",
      "Epoch 148/200\n",
      "1257/1257 [==============================] - 0s - loss: 0.1125 - acc: 0.9920 - precision: 0.9983     \n",
      "Epoch 149/200\n",
      "1257/1257 [==============================] - 0s - loss: 0.1122 - acc: 0.9928 - precision: 0.9984     \n",
      "Epoch 150/200\n",
      "1257/1257 [==============================] - 0s - loss: 0.1101 - acc: 0.9944 - precision: 0.9976     \n",
      "Epoch 151/200\n",
      "1257/1257 [==============================] - 0s - loss: 0.1090 - acc: 0.9944 - precision: 0.9984     \n",
      "Epoch 152/200\n",
      "1257/1257 [==============================] - 0s - loss: 0.1084 - acc: 0.9952 - precision: 0.9984     \n",
      "Epoch 153/200\n",
      "1257/1257 [==============================] - 0s - loss: 0.1074 - acc: 0.9928 - precision: 0.9992     \n",
      "Epoch 154/200\n",
      "1257/1257 [==============================] - 0s - loss: 0.1058 - acc: 0.9936 - precision: 0.9984     \n",
      "Epoch 155/200\n",
      "1257/1257 [==============================] - 0s - loss: 0.1052 - acc: 0.9928 - precision: 0.9992     \n",
      "Epoch 156/200\n",
      "1257/1257 [==============================] - 0s - loss: 0.1038 - acc: 0.9952 - precision: 0.9967     \n",
      "Epoch 157/200\n",
      "1257/1257 [==============================] - 0s - loss: 0.1026 - acc: 0.9944 - precision: 0.9992     \n",
      "Epoch 158/200\n",
      "1257/1257 [==============================] - 0s - loss: 0.1016 - acc: 0.9944 - precision: 1.0000     \n",
      "Epoch 159/200\n",
      "1257/1257 [==============================] - 0s - loss: 0.1005 - acc: 0.9944 - precision: 0.9992     \n",
      "Epoch 160/200\n",
      "1257/1257 [==============================] - 0s - loss: 0.0993 - acc: 0.9944 - precision: 0.9984     \n",
      "Epoch 161/200\n",
      "1257/1257 [==============================] - 0s - loss: 0.0983 - acc: 0.9944 - precision: 0.9992     \n",
      "Epoch 162/200\n",
      "1257/1257 [==============================] - 0s - loss: 0.0976 - acc: 0.9960 - precision: 1.0000     \n",
      "Epoch 163/200\n",
      "1257/1257 [==============================] - 0s - loss: 0.0965 - acc: 0.9952 - precision: 1.0000     \n",
      "Epoch 164/200\n",
      "1257/1257 [==============================] - 0s - loss: 0.0959 - acc: 0.9952 - precision: 1.0000     \n",
      "Epoch 165/200\n",
      "1257/1257 [==============================] - 0s - loss: 0.0946 - acc: 0.9960 - precision: 1.0000     \n",
      "Epoch 166/200\n",
      "1257/1257 [==============================] - 0s - loss: 0.0940 - acc: 0.9952 - precision: 0.9992     \n",
      "Epoch 167/200\n",
      "1257/1257 [==============================] - 0s - loss: 0.0928 - acc: 0.9960 - precision: 0.9992     \n",
      "Epoch 168/200\n",
      "1257/1257 [==============================] - 0s - loss: 0.0918 - acc: 0.9968 - precision: 1.0000     \n",
      "Epoch 169/200\n",
      "1257/1257 [==============================] - 0s - loss: 0.0907 - acc: 0.9968 - precision: 1.0000     \n",
      "Epoch 170/200\n",
      "1257/1257 [==============================] - 0s - loss: 0.0899 - acc: 0.9952 - precision: 0.9992     \n",
      "Epoch 171/200\n",
      "1257/1257 [==============================] - 0s - loss: 0.0896 - acc: 0.9952 - precision: 0.9992     \n",
      "Epoch 172/200\n",
      "1257/1257 [==============================] - 0s - loss: 0.0886 - acc: 0.9960 - precision: 0.9992     \n",
      "Epoch 173/200\n",
      "1257/1257 [==============================] - 0s - loss: 0.0878 - acc: 0.9960 - precision: 1.0000     \n",
      "Epoch 174/200\n",
      "1257/1257 [==============================] - 0s - loss: 0.0866 - acc: 0.9960 - precision: 1.0000     \n",
      "Epoch 175/200\n",
      "1257/1257 [==============================] - 0s - loss: 0.0863 - acc: 0.9960 - precision: 0.9984     \n",
      "Epoch 176/200\n",
      "1257/1257 [==============================] - 0s - loss: 0.0866 - acc: 0.9960 - precision: 0.9992     \n",
      "Epoch 177/200\n",
      "1257/1257 [==============================] - 0s - loss: 0.0855 - acc: 0.9944 - precision: 0.9992     \n",
      "Epoch 178/200\n",
      "1257/1257 [==============================] - 0s - loss: 0.0838 - acc: 0.9968 - precision: 0.9992     \n",
      "Epoch 179/200\n",
      "1257/1257 [==============================] - 0s - loss: 0.0828 - acc: 0.9968 - precision: 0.9992     \n",
      "Epoch 180/200\n",
      "1257/1257 [==============================] - 0s - loss: 0.0820 - acc: 0.9968 - precision: 1.0000     \n",
      "Epoch 181/200\n",
      "1257/1257 [==============================] - 0s - loss: 0.0814 - acc: 0.9960 - precision: 0.9992     \n",
      "Epoch 182/200\n",
      "1257/1257 [==============================] - 0s - loss: 0.0805 - acc: 0.9968 - precision: 1.0000     \n",
      "Epoch 183/200\n",
      "1257/1257 [==============================] - 0s - loss: 0.0795 - acc: 0.9968 - precision: 1.0000     \n",
      "Epoch 184/200\n",
      "1257/1257 [==============================] - 0s - loss: 0.0793 - acc: 0.9960 - precision: 1.0000     \n",
      "Epoch 185/200\n",
      "1257/1257 [==============================] - 0s - loss: 0.0786 - acc: 0.9968 - precision: 1.0000     \n",
      "Epoch 186/200\n",
      "1257/1257 [==============================] - 0s - loss: 0.0776 - acc: 0.9960 - precision: 1.0000     \n",
      "Epoch 187/200\n",
      "1257/1257 [==============================] - 0s - loss: 0.0768 - acc: 0.9968 - precision: 1.0000     \n",
      "Epoch 188/200\n",
      "1257/1257 [==============================] - 0s - loss: 0.0764 - acc: 0.9960 - precision: 1.0000     \n",
      "Epoch 189/200\n",
      "1257/1257 [==============================] - 0s - loss: 0.0754 - acc: 0.9968 - precision: 1.0000     \n",
      "Epoch 190/200\n",
      "1257/1257 [==============================] - 0s - loss: 0.0750 - acc: 0.9968 - precision: 1.0000     \n",
      "Epoch 191/200\n",
      "1257/1257 [==============================] - 0s - loss: 0.0742 - acc: 0.9968 - precision: 1.0000     \n",
      "Epoch 192/200\n",
      "1257/1257 [==============================] - 0s - loss: 0.0738 - acc: 0.9968 - precision: 1.0000     \n",
      "Epoch 193/200\n",
      "1257/1257 [==============================] - 0s - loss: 0.0728 - acc: 0.9968 - precision: 1.0000     \n",
      "Epoch 194/200\n",
      "1257/1257 [==============================] - 0s - loss: 0.0724 - acc: 0.9968 - precision: 1.0000     \n",
      "Epoch 195/200\n",
      "1257/1257 [==============================] - 0s - loss: 0.0719 - acc: 0.9968 - precision: 1.0000     \n",
      "Epoch 196/200\n",
      "1257/1257 [==============================] - 0s - loss: 0.0712 - acc: 0.9968 - precision: 1.0000     \n",
      "Epoch 197/200\n",
      "1257/1257 [==============================] - 0s - loss: 0.0706 - acc: 0.9968 - precision: 1.0000     \n",
      "Epoch 198/200\n",
      "1257/1257 [==============================] - 0s - loss: 0.0697 - acc: 0.9976 - precision: 1.0000     \n",
      "Epoch 199/200\n",
      "1257/1257 [==============================] - 0s - loss: 0.0692 - acc: 0.9976 - precision: 1.0000     \n",
      "Epoch 200/200\n",
      "1257/1257 [==============================] - 0s - loss: 0.0688 - acc: 0.9968 - precision: 1.0000     \n"
     ]
    },
    {
     "data": {
      "text/plain": [
       "<keras.callbacks.History at 0x227e0f0d198>"
      ]
     },
     "execution_count": 68,
     "metadata": {},
     "output_type": "execute_result"
    }
   ],
   "source": [
    "model.compile(optimizer='adam', loss='categorical_crossentropy', metrics=['accuracy','precision'])\n",
    "model.fit(train_X, train_y_ohe, nb_epoch=200, batch_size=100)"
   ]
  },
  {
   "cell_type": "code",
   "execution_count": 71,
   "metadata": {
    "collapsed": false
   },
   "outputs": [
    {
     "name": "stdout",
     "output_type": "stream",
     "text": [
      " 32/540 [>.............................] - ETA: 0s0.944444444444 0.96339581101\n"
     ]
    }
   ],
   "source": [
    "loss, accuracy, precision = model.evaluate(test_X, test_y_ohe)\n",
    "print(accuracy, precision)"
   ]
  },
  {
   "cell_type": "code",
   "execution_count": 73,
   "metadata": {
    "collapsed": false
   },
   "outputs": [],
   "source": [
    "pred_y= model.predict(test_X)"
   ]
  },
  {
   "cell_type": "code",
   "execution_count": 1,
   "metadata": {
    "collapsed": true
   },
   "outputs": [],
   "source": [
    "aa = [1,2,3,4]"
   ]
  },
  {
   "cell_type": "code",
   "execution_count": 2,
   "metadata": {
    "collapsed": false
   },
   "outputs": [
    {
     "ename": "AttributeError",
     "evalue": "'list' object has no attribute 'shape'",
     "output_type": "error",
     "traceback": [
      "\u001b[0;31m---------------------------------------------------------------------------\u001b[0m",
      "\u001b[0;31mAttributeError\u001b[0m                            Traceback (most recent call last)",
      "\u001b[0;32m<ipython-input-2-d12e2b789b99>\u001b[0m in \u001b[0;36m<module>\u001b[0;34m()\u001b[0m\n\u001b[0;32m----> 1\u001b[0;31m \u001b[0maa\u001b[0m\u001b[1;33m.\u001b[0m\u001b[0mshape\u001b[0m\u001b[1;33m[\u001b[0m\u001b[1;36m0\u001b[0m\u001b[1;33m]\u001b[0m\u001b[1;33m\u001b[0m\u001b[0m\n\u001b[0m",
      "\u001b[0;31mAttributeError\u001b[0m: 'list' object has no attribute 'shape'"
     ]
    }
   ],
   "source": []
  },
  {
   "cell_type": "code",
   "execution_count": 39,
   "metadata": {
    "collapsed": false
   },
   "outputs": [],
   "source": [
    "from pandas import DataFrame\n",
    "df = DataFrame({'x': [1,1,1,2,2,2,3],\n",
    "                'u': [3,2,1,1,2,1,3],\n",
    "                'y': ['a','b','c','d','e','f','g']})"
   ]
  },
  {
   "cell_type": "code",
   "execution_count": 21,
   "metadata": {
    "collapsed": false
   },
   "outputs": [
    {
     "data": {
      "text/html": [
       "<div>\n",
       "<table border=\"1\" class=\"dataframe\">\n",
       "  <thead>\n",
       "    <tr style=\"text-align: right;\">\n",
       "      <th></th>\n",
       "      <th>x</th>\n",
       "      <th>y</th>\n",
       "    </tr>\n",
       "  </thead>\n",
       "  <tbody>\n",
       "    <tr>\n",
       "      <th>0</th>\n",
       "      <td>3</td>\n",
       "      <td>a</td>\n",
       "    </tr>\n",
       "    <tr>\n",
       "      <th>1</th>\n",
       "      <td>2</td>\n",
       "      <td>b</td>\n",
       "    </tr>\n",
       "    <tr>\n",
       "      <th>2</th>\n",
       "      <td>3</td>\n",
       "      <td>c</td>\n",
       "    </tr>\n",
       "    <tr>\n",
       "      <th>3</th>\n",
       "      <td>4</td>\n",
       "      <td>d</td>\n",
       "    </tr>\n",
       "    <tr>\n",
       "      <th>4</th>\n",
       "      <td>4</td>\n",
       "      <td>e</td>\n",
       "    </tr>\n",
       "    <tr>\n",
       "      <th>5</th>\n",
       "      <td>4</td>\n",
       "      <td>f</td>\n",
       "    </tr>\n",
       "    <tr>\n",
       "      <th>6</th>\n",
       "      <td>5</td>\n",
       "      <td>g</td>\n",
       "    </tr>\n",
       "  </tbody>\n",
       "</table>\n",
       "</div>"
      ],
      "text/plain": [
       "   x  y\n",
       "0  3  a\n",
       "1  2  b\n",
       "2  3  c\n",
       "3  4  d\n",
       "4  4  e\n",
       "5  4  f\n",
       "6  5  g"
      ]
     },
     "execution_count": 21,
     "metadata": {},
     "output_type": "execute_result"
    }
   ],
   "source": [
    "df"
   ]
  },
  {
   "cell_type": "code",
   "execution_count": 22,
   "metadata": {
    "collapsed": false
   },
   "outputs": [
    {
     "data": {
      "text/plain": [
       "[2, 3, 4, 5]"
      ]
     },
     "execution_count": 22,
     "metadata": {},
     "output_type": "execute_result"
    }
   ],
   "source": [
    "sorted(df['x'].unique())"
   ]
  },
  {
   "cell_type": "code",
   "execution_count": 30,
   "metadata": {
    "collapsed": false,
    "scrolled": true
   },
   "outputs": [
    {
     "data": {
      "text/html": [
       "<div>\n",
       "<table border=\"1\" class=\"dataframe\">\n",
       "  <thead>\n",
       "    <tr style=\"text-align: right;\">\n",
       "      <th></th>\n",
       "      <th>x</th>\n",
       "      <th>y</th>\n",
       "    </tr>\n",
       "  </thead>\n",
       "  <tbody>\n",
       "    <tr>\n",
       "      <th>0</th>\n",
       "      <td>3</td>\n",
       "      <td>a</td>\n",
       "    </tr>\n",
       "    <tr>\n",
       "      <th>2</th>\n",
       "      <td>3</td>\n",
       "      <td>c</td>\n",
       "    </tr>\n",
       "  </tbody>\n",
       "</table>\n",
       "</div>"
      ],
      "text/plain": [
       "   x  y\n",
       "0  3  a\n",
       "2  3  c"
      ]
     },
     "execution_count": 30,
     "metadata": {},
     "output_type": "execute_result"
    }
   ],
   "source": [
    "df.loc[df['x'] == 3]"
   ]
  },
  {
   "cell_type": "code",
   "execution_count": 73,
   "metadata": {
    "collapsed": false
   },
   "outputs": [
    {
     "data": {
      "text/html": [
       "<div>\n",
       "<table border=\"1\" class=\"dataframe\">\n",
       "  <thead>\n",
       "    <tr style=\"text-align: right;\">\n",
       "      <th></th>\n",
       "      <th>u</th>\n",
       "      <th>x</th>\n",
       "      <th>y</th>\n",
       "    </tr>\n",
       "  </thead>\n",
       "  <tbody>\n",
       "    <tr>\n",
       "      <th>2</th>\n",
       "      <td>1</td>\n",
       "      <td>1</td>\n",
       "      <td>c</td>\n",
       "    </tr>\n",
       "    <tr>\n",
       "      <th>1</th>\n",
       "      <td>2</td>\n",
       "      <td>1</td>\n",
       "      <td>b</td>\n",
       "    </tr>\n",
       "    <tr>\n",
       "      <th>0</th>\n",
       "      <td>3</td>\n",
       "      <td>1</td>\n",
       "      <td>a</td>\n",
       "    </tr>\n",
       "    <tr>\n",
       "      <th>3</th>\n",
       "      <td>1</td>\n",
       "      <td>2</td>\n",
       "      <td>d</td>\n",
       "    </tr>\n",
       "    <tr>\n",
       "      <th>5</th>\n",
       "      <td>1</td>\n",
       "      <td>2</td>\n",
       "      <td>f</td>\n",
       "    </tr>\n",
       "    <tr>\n",
       "      <th>4</th>\n",
       "      <td>2</td>\n",
       "      <td>2</td>\n",
       "      <td>e</td>\n",
       "    </tr>\n",
       "    <tr>\n",
       "      <th>6</th>\n",
       "      <td>3</td>\n",
       "      <td>3</td>\n",
       "      <td>g</td>\n",
       "    </tr>\n",
       "  </tbody>\n",
       "</table>\n",
       "</div>"
      ],
      "text/plain": [
       "   u  x  y\n",
       "2  1  1  c\n",
       "1  2  1  b\n",
       "0  3  1  a\n",
       "3  1  2  d\n",
       "5  1  2  f\n",
       "4  2  2  e\n",
       "6  3  3  g"
      ]
     },
     "execution_count": 73,
     "metadata": {},
     "output_type": "execute_result"
    }
   ],
   "source": [
    "df.sort_values(['x','u'], ascending=[True, True])"
   ]
  },
  {
   "cell_type": "code",
   "execution_count": 40,
   "metadata": {
    "collapsed": false
   },
   "outputs": [
    {
     "data": {
      "text/html": [
       "<div>\n",
       "<table border=\"1\" class=\"dataframe\">\n",
       "  <thead>\n",
       "    <tr style=\"text-align: right;\">\n",
       "      <th></th>\n",
       "      <th>u</th>\n",
       "      <th>x</th>\n",
       "      <th>y</th>\n",
       "    </tr>\n",
       "  </thead>\n",
       "  <tbody>\n",
       "    <tr>\n",
       "      <th>0</th>\n",
       "      <td>3</td>\n",
       "      <td>1</td>\n",
       "      <td>a</td>\n",
       "    </tr>\n",
       "    <tr>\n",
       "      <th>1</th>\n",
       "      <td>2</td>\n",
       "      <td>1</td>\n",
       "      <td>b</td>\n",
       "    </tr>\n",
       "    <tr>\n",
       "      <th>2</th>\n",
       "      <td>1</td>\n",
       "      <td>1</td>\n",
       "      <td>c</td>\n",
       "    </tr>\n",
       "    <tr>\n",
       "      <th>3</th>\n",
       "      <td>1</td>\n",
       "      <td>2</td>\n",
       "      <td>d</td>\n",
       "    </tr>\n",
       "    <tr>\n",
       "      <th>4</th>\n",
       "      <td>2</td>\n",
       "      <td>2</td>\n",
       "      <td>e</td>\n",
       "    </tr>\n",
       "    <tr>\n",
       "      <th>5</th>\n",
       "      <td>1</td>\n",
       "      <td>2</td>\n",
       "      <td>f</td>\n",
       "    </tr>\n",
       "    <tr>\n",
       "      <th>6</th>\n",
       "      <td>3</td>\n",
       "      <td>3</td>\n",
       "      <td>g</td>\n",
       "    </tr>\n",
       "  </tbody>\n",
       "</table>\n",
       "</div>"
      ],
      "text/plain": [
       "   u  x  y\n",
       "0  3  1  a\n",
       "1  2  1  b\n",
       "2  1  1  c\n",
       "3  1  2  d\n",
       "4  2  2  e\n",
       "5  1  2  f\n",
       "6  3  3  g"
      ]
     },
     "execution_count": 40,
     "metadata": {},
     "output_type": "execute_result"
    }
   ],
   "source": [
    "df.sort_values('x')"
   ]
  },
  {
   "cell_type": "code",
   "execution_count": 43,
   "metadata": {
    "collapsed": false
   },
   "outputs": [
    {
     "data": {
      "text/plain": [
       "3"
      ]
     },
     "execution_count": 43,
     "metadata": {},
     "output_type": "execute_result"
    }
   ],
   "source": [
    "df.shape[1]"
   ]
  },
  {
   "cell_type": "code",
   "execution_count": 71,
   "metadata": {
    "collapsed": false
   },
   "outputs": [
    {
     "name": "stdout",
     "output_type": "stream",
     "text": [
      "1 3\n",
      "1 2\n",
      "1 1\n",
      "2 1\n",
      "2 2\n",
      "2 1\n",
      "3 3\n"
     ]
    }
   ],
   "source": [
    "for row in df.iterrows():\n",
    "    print(row[1]['x'], row[1]['u'])"
   ]
  },
  {
   "cell_type": "code",
   "execution_count": 64,
   "metadata": {
    "collapsed": false
   },
   "outputs": [
    {
     "data": {
      "text/plain": [
       "[[1, 'a'], [1, 'b'], [1, 'c'], [2, 'd'], [2, 'e'], [2, 'f'], [3, 'g']]"
      ]
     },
     "execution_count": 64,
     "metadata": {},
     "output_type": "execute_result"
    }
   ],
   "source": [
    "df[['x','y']].values.tolist()"
   ]
  },
  {
   "cell_type": "code",
   "execution_count": 66,
   "metadata": {
    "collapsed": false
   },
   "outputs": [],
   "source": [
    "kk = {'x1': [{'y': 3, 'label': None}], 'x2': [{'y': 6, 'label': 'ttt'}]}"
   ]
  },
  {
   "cell_type": "code",
   "execution_count": 67,
   "metadata": {
    "collapsed": false
   },
   "outputs": [
    {
     "data": {
      "text/plain": [
       "[{'label': None, 'y': 3}]"
      ]
     },
     "execution_count": 67,
     "metadata": {},
     "output_type": "execute_result"
    }
   ],
   "source": [
    "kk['x1']"
   ]
  },
  {
   "cell_type": "code",
   "execution_count": 74,
   "metadata": {
    "collapsed": false
   },
   "outputs": [
    {
     "data": {
      "text/plain": [
       "'asdasd123asdasd'"
      ]
     },
     "execution_count": 74,
     "metadata": {},
     "output_type": "execute_result"
    }
   ],
   "source": [
    "'asdasd{0}asdasd'.format('123')"
   ]
  },
  {
   "cell_type": "code",
   "execution_count": 121,
   "metadata": {
    "collapsed": true
   },
   "outputs": [],
   "source": [
    "def serialize_group_by_data(group_by_data, sorting=None):\n",
    "    df_result = group_by_data\n",
    "    \n",
    "    ser_result = {}\n",
    "    if df_result.shape[1] == 2:\n",
    "        for row in df_result.iterrows():\n",
    "            ser_result[row[1]['dim_x']] = [{'y': row[1]['total'],\n",
    "                                            'label': None}]\n",
    "    else:\n",
    "        x_unique = sorted(df_result['dim_x'].unique())\n",
    "\n",
    "        for x in x_unique:\n",
    "            df_temp = df_result.loc[df_result['dim_x'] == x]\n",
    "            if sorting == 'asc':\n",
    "                df_temp = df_temp.sort_values(['total', 'dim_y'])\n",
    "            elif sorting == 'desc':\n",
    "                df_temp = df_temp.sort_values(['total', 'dim_y'], \n",
    "                                              ascending=[False, True])\n",
    "            else:\n",
    "                df_temp = df_temp.sort_values(['dim_y', 'total'])\n",
    "\n",
    "            vals = []\n",
    "            for row in df_temp.iterrows():\n",
    "                vals.append({'y': row[1]['total'],\n",
    "                             'label': row[1]['dim_y']})\n",
    "\n",
    "            ser_result[x] = vals\n",
    "\n",
    "    return ser_result"
   ]
  },
  {
   "cell_type": "code",
   "execution_count": 122,
   "metadata": {
    "collapsed": false
   },
   "outputs": [
    {
     "data": {
      "text/html": [
       "<div>\n",
       "<table border=\"1\" class=\"dataframe\">\n",
       "  <thead>\n",
       "    <tr style=\"text-align: right;\">\n",
       "      <th></th>\n",
       "      <th>dim_x</th>\n",
       "      <th>dim_y</th>\n",
       "      <th>total</th>\n",
       "    </tr>\n",
       "  </thead>\n",
       "  <tbody>\n",
       "    <tr>\n",
       "      <th>0</th>\n",
       "      <td>1</td>\n",
       "      <td>a</td>\n",
       "      <td>1.1</td>\n",
       "    </tr>\n",
       "    <tr>\n",
       "      <th>1</th>\n",
       "      <td>1</td>\n",
       "      <td>b</td>\n",
       "      <td>2.2</td>\n",
       "    </tr>\n",
       "    <tr>\n",
       "      <th>2</th>\n",
       "      <td>2</td>\n",
       "      <td>a</td>\n",
       "      <td>3.3</td>\n",
       "    </tr>\n",
       "    <tr>\n",
       "      <th>3</th>\n",
       "      <td>2</td>\n",
       "      <td>c</td>\n",
       "      <td>4.4</td>\n",
       "    </tr>\n",
       "  </tbody>\n",
       "</table>\n",
       "</div>"
      ],
      "text/plain": [
       "   dim_x dim_y  total\n",
       "0      1     a    1.1\n",
       "1      1     b    2.2\n",
       "2      2     a    3.3\n",
       "3      2     c    4.4"
      ]
     },
     "execution_count": 122,
     "metadata": {},
     "output_type": "execute_result"
    }
   ],
   "source": [
    "df = DataFrame({'dim_x': [1,1,2,2],\n",
    "                'total': [1.1, 2.2, 3.3, 4.4],\n",
    "                'dim_y': ['a','b','a','c']})\n",
    "df"
   ]
  },
  {
   "cell_type": "code",
   "execution_count": 110,
   "metadata": {
    "collapsed": false
   },
   "outputs": [
    {
     "data": {
      "text/html": [
       "<div>\n",
       "<table border=\"1\" class=\"dataframe\">\n",
       "  <thead>\n",
       "    <tr style=\"text-align: right;\">\n",
       "      <th></th>\n",
       "      <th>dim_x</th>\n",
       "      <th>dim_y</th>\n",
       "      <th>total</th>\n",
       "    </tr>\n",
       "  </thead>\n",
       "  <tbody>\n",
       "    <tr>\n",
       "      <th>0</th>\n",
       "      <td>1</td>\n",
       "      <td>a</td>\n",
       "      <td>1.1</td>\n",
       "    </tr>\n",
       "    <tr>\n",
       "      <th>1</th>\n",
       "      <td>1</td>\n",
       "      <td>b</td>\n",
       "      <td>2.2</td>\n",
       "    </tr>\n",
       "    <tr>\n",
       "      <th>2</th>\n",
       "      <td>2</td>\n",
       "      <td>a</td>\n",
       "      <td>3.3</td>\n",
       "    </tr>\n",
       "    <tr>\n",
       "      <th>3</th>\n",
       "      <td>2</td>\n",
       "      <td>c</td>\n",
       "      <td>4.4</td>\n",
       "    </tr>\n",
       "  </tbody>\n",
       "</table>\n",
       "</div>"
      ],
      "text/plain": [
       "   dim_x dim_y  total\n",
       "0      1     a    1.1\n",
       "1      1     b    2.2\n",
       "2      2     a    3.3\n",
       "3      2     c    4.4"
      ]
     },
     "execution_count": 110,
     "metadata": {},
     "output_type": "execute_result"
    }
   ],
   "source": [
    "df.sort_values(['total', 'dim_y'])"
   ]
  },
  {
   "cell_type": "code",
   "execution_count": 111,
   "metadata": {
    "collapsed": false
   },
   "outputs": [
    {
     "data": {
      "text/html": [
       "<div>\n",
       "<table border=\"1\" class=\"dataframe\">\n",
       "  <thead>\n",
       "    <tr style=\"text-align: right;\">\n",
       "      <th></th>\n",
       "      <th>dim_x</th>\n",
       "      <th>dim_y</th>\n",
       "      <th>total</th>\n",
       "    </tr>\n",
       "  </thead>\n",
       "  <tbody>\n",
       "    <tr>\n",
       "      <th>3</th>\n",
       "      <td>2</td>\n",
       "      <td>c</td>\n",
       "      <td>4.4</td>\n",
       "    </tr>\n",
       "    <tr>\n",
       "      <th>2</th>\n",
       "      <td>2</td>\n",
       "      <td>a</td>\n",
       "      <td>3.3</td>\n",
       "    </tr>\n",
       "    <tr>\n",
       "      <th>1</th>\n",
       "      <td>1</td>\n",
       "      <td>b</td>\n",
       "      <td>2.2</td>\n",
       "    </tr>\n",
       "    <tr>\n",
       "      <th>0</th>\n",
       "      <td>1</td>\n",
       "      <td>a</td>\n",
       "      <td>1.1</td>\n",
       "    </tr>\n",
       "  </tbody>\n",
       "</table>\n",
       "</div>"
      ],
      "text/plain": [
       "   dim_x dim_y  total\n",
       "3      2     c    4.4\n",
       "2      2     a    3.3\n",
       "1      1     b    2.2\n",
       "0      1     a    1.1"
      ]
     },
     "execution_count": 111,
     "metadata": {},
     "output_type": "execute_result"
    }
   ],
   "source": [
    "df.sort_values(['total', 'dim_y'], ascending=[False, True])"
   ]
  },
  {
   "cell_type": "code",
   "execution_count": 125,
   "metadata": {
    "collapsed": false
   },
   "outputs": [
    {
     "data": {
      "text/plain": [
       "{1: [{'label': 'a', 'y': 1.1}, {'label': 'b', 'y': 2.2}],\n",
       " 2: [{'label': 'a', 'y': 3.3}, {'label': 'c', 'y': 4.4}]}"
      ]
     },
     "execution_count": 125,
     "metadata": {},
     "output_type": "execute_result"
    }
   ],
   "source": [
    "serialize_group_by_data(df)"
   ]
  },
  {
   "cell_type": "code",
   "execution_count": 120,
   "metadata": {
    "collapsed": false
   },
   "outputs": [
    {
     "name": "stdout",
     "output_type": "stream",
     "text": [
      "   dim_x dim_y  total\n",
      "0      1     a    1.1\n",
      "1      1     b    2.2\n",
      "   dim_x dim_y  total\n",
      "2      2     a    3.3\n",
      "3      2     c    4.4\n"
     ]
    }
   ],
   "source": [
    "x_unique = sorted(df['dim_x'].unique())\n",
    "\n",
    "sorting = 'asc'\n",
    "for x in x_unique:\n",
    "    df_temp = df.loc[df['dim_x'] == x]\n",
    "    if sorting == 'asc':\n",
    "        df_temp = df_temp.sort_values(['total', 'dim_y'])\n",
    "    elif sorting == 'desc':\n",
    "        df_temp = df_temp.sort_values(['total', 'dim_y'],\n",
    "                            ascending=[False, True])\n",
    "    else:\n",
    "        df_temp = df_temp.sort_values(['dim_y', 'total'])\n",
    "    \n",
    "    print(df_temp)\n",
    "#\n",
    "#            vals = []\n",
    "#            for row in df_temp.iterrows():\n",
    "#                vals.append({'y': row[1]['total'],\n",
    "#                             'label': row[1]['dim_y']})\n",
    "#\n",
    "#            ser_result[x] = vals"
   ]
  },
  {
   "cell_type": "code",
   "execution_count": null,
   "metadata": {
    "collapsed": true
   },
   "outputs": [],
   "source": []
  }
 ],
 "metadata": {
  "anaconda-cloud": {},
  "kernelspec": {
   "display_name": "Python 3",
   "language": "python",
   "name": "python3"
  },
  "language_info": {
   "codemirror_mode": {
    "name": "ipython",
    "version": 3
   },
   "file_extension": ".py",
   "mimetype": "text/x-python",
   "name": "python",
   "nbconvert_exporter": "python",
   "pygments_lexer": "ipython3",
   "version": "3.6.0"
  }
 },
 "nbformat": 4,
 "nbformat_minor": 1
}
