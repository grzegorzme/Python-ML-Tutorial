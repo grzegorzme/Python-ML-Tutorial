{
 "cells": [
  {
   "cell_type": "code",
   "execution_count": 1,
   "metadata": {
    "collapsed": true
   },
   "outputs": [],
   "source": [
    "import os\n",
    "import struct\n",
    "import numpy as np\n",
    "def load_mnist(path, kind='train'):\n",
    "    \"\"\"Load MNIST data from `path`\"\"\"\n",
    "    labels_path = os.path.join(path, '%s-labels.idx1-ubyte' % kind)\n",
    "    images_path = os.path.join(path, '%s-images.idx3-ubyte' % kind)\n",
    "    with open(labels_path, 'rb') as lbpath:\n",
    "        magic, n = struct.unpack('>II', lbpath.read(8))\n",
    "        labels = np.fromfile(lbpath, dtype=np.uint8)\n",
    "    with open(images_path, 'rb') as imgpath: \n",
    "        magic, num, rows, cols = struct.unpack(\">IIII\",\n",
    "                                               imgpath.read(16))\n",
    "        images = np.fromfile(imgpath, dtype=np.uint8).reshape(len(labels), 784)\n",
    "    return images, labels"
   ]
  },
  {
   "cell_type": "code",
   "execution_count": 2,
   "metadata": {},
   "outputs": [
    {
     "name": "stdout",
     "output_type": "stream",
     "text": [
      "Rows: 60000, columns: 784\n",
      "Rows: 10000, columns: 784\n"
     ]
    }
   ],
   "source": [
    "X_train, y_train = load_mnist('./downloads/mnist', kind='train')\n",
    "print('Rows: %d, columns: %d' % (X_train.shape[0], X_train.shape[1]))\n",
    "\n",
    "X_test, y_test = load_mnist('./downloads/mnist', kind='t10k')\n",
    "print('Rows: %d, columns: %d' % (X_test.shape[0], X_test.shape[1]))"
   ]
  },
  {
   "cell_type": "code",
   "execution_count": 3,
   "metadata": {},
   "outputs": [
    {
     "name": "stderr",
     "output_type": "stream",
     "text": [
      "Using TensorFlow backend.\n"
     ]
    },
    {
     "name": "stdout",
     "output_type": "stream",
     "text": [
      "First 3 labels:  [5 0 4]\n",
      "\n",
      "First 3 labels (one-hot):\n",
      " [[ 0.  0.  0.  0.  0.  1.  0.  0.  0.  0.]\n",
      " [ 1.  0.  0.  0.  0.  0.  0.  0.  0.  0.]\n",
      " [ 0.  0.  0.  0.  1.  0.  0.  0.  0.  0.]]\n"
     ]
    }
   ],
   "source": [
    "from keras.utils import np_utils\n",
    "print('First 3 labels: ', y_train[:3])\n",
    "y_train_ohe = np_utils.to_categorical(y_train)\n",
    "print('\\nFirst 3 labels (one-hot):\\n', y_train_ohe[:3])"
   ]
  },
  {
   "cell_type": "code",
   "execution_count": 4,
   "metadata": {
    "collapsed": true
   },
   "outputs": [],
   "source": [
    "from keras.models import Sequential\n",
    "from keras.layers.core import Dense\n",
    "from keras.optimizers import SGD\n",
    "\n",
    "np.random.seed(1)\n",
    "model = Sequential()\n",
    "model.add(Dense(input_dim=X_train.shape[1],\n",
    "                units=50,\n",
    "                kernel_initializer='uniform',\n",
    "                activation='tanh'))\n",
    "model.add(Dense(input_dim=50,\n",
    "                units=50,\n",
    "                kernel_initializer='uniform',\n",
    "                activation='tanh'))\n",
    "model.add(Dense(input_dim=50,\n",
    "                units=y_train_ohe.shape[1],\n",
    "                kernel_initializer='uniform',\n",
    "                activation='softmax'))\n",
    "sgd = SGD(lr=0.001, decay=1e-7, momentum=.9)\n",
    "model.compile(loss='categorical_crossentropy', optimizer=sgd, metrics=['accuracy'])"
   ]
  },
  {
   "cell_type": "code",
   "execution_count": 5,
   "metadata": {},
   "outputs": [
    {
     "name": "stdout",
     "output_type": "stream",
     "text": [
      "Train on 54000 samples, validate on 6000 samples\n",
      "Epoch 1/50\n",
      "54000/54000 [==============================] - 3s - loss: 2.2204 - acc: 0.4277 - val_loss: 2.0852 - val_acc: 0.6235\n",
      "Epoch 2/50\n",
      "54000/54000 [==============================] - 4s - loss: 1.8277 - acc: 0.6205 - val_loss: 1.5049 - val_acc: 0.6582\n",
      "Epoch 3/50\n",
      "54000/54000 [==============================] - 3s - loss: 1.2982 - acc: 0.6578 - val_loss: 1.0738 - val_acc: 0.7292\n",
      "Epoch 4/50\n",
      "54000/54000 [==============================] - 3s - loss: 0.9787 - acc: 0.7466 - val_loss: 0.8149 - val_acc: 0.8128\n",
      "Epoch 5/50\n",
      "54000/54000 [==============================] - 3s - loss: 0.7767 - acc: 0.8124 - val_loss: 0.6518 - val_acc: 0.8555\n",
      "Epoch 6/50\n",
      "54000/54000 [==============================] - 3s - loss: 0.6430 - acc: 0.8490 - val_loss: 0.5457 - val_acc: 0.8847\n",
      "Epoch 7/50\n",
      "54000/54000 [==============================] - 3s - loss: 0.5549 - acc: 0.8678 - val_loss: 0.4694 - val_acc: 0.8927\n",
      "Epoch 8/50\n",
      "54000/54000 [==============================] - 3s - loss: 0.4978 - acc: 0.8787 - val_loss: 0.4218 - val_acc: 0.9038\n",
      "Epoch 9/50\n",
      "54000/54000 [==============================] - 3s - loss: 0.4528 - acc: 0.8859 - val_loss: 0.3980 - val_acc: 0.9085\n",
      "Epoch 10/50\n",
      "54000/54000 [==============================] - 3s - loss: 0.4261 - acc: 0.8906 - val_loss: 0.3569 - val_acc: 0.9102\n",
      "Epoch 11/50\n",
      "54000/54000 [==============================] - 3s - loss: 0.3961 - acc: 0.8969 - val_loss: 0.3366 - val_acc: 0.9188\n",
      "Epoch 12/50\n",
      "54000/54000 [==============================] - 3s - loss: 0.3760 - acc: 0.8992 - val_loss: 0.3262 - val_acc: 0.9177\n",
      "Epoch 13/50\n",
      "54000/54000 [==============================] - 3s - loss: 0.3587 - acc: 0.9035 - val_loss: 0.3065 - val_acc: 0.9230\n",
      "Epoch 14/50\n",
      "54000/54000 [==============================] - 3s - loss: 0.3481 - acc: 0.9081 - val_loss: 0.2892 - val_acc: 0.9297\n",
      "Epoch 15/50\n",
      "54000/54000 [==============================] - 4s - loss: 0.3333 - acc: 0.9106 - val_loss: 0.2841 - val_acc: 0.9242\n",
      "Epoch 16/50\n",
      "54000/54000 [==============================] - 4s - loss: 0.3237 - acc: 0.9124 - val_loss: 0.2799 - val_acc: 0.9262\n",
      "Epoch 17/50\n",
      "54000/54000 [==============================] - 4s - loss: 0.3130 - acc: 0.9145 - val_loss: 0.2689 - val_acc: 0.9317\n",
      "Epoch 18/50\n",
      "54000/54000 [==============================] - 4s - loss: 0.3068 - acc: 0.9159 - val_loss: 0.2571 - val_acc: 0.9300\n",
      "Epoch 19/50\n",
      "54000/54000 [==============================] - 4s - loss: 0.2947 - acc: 0.9197 - val_loss: 0.2502 - val_acc: 0.9338\n",
      "Epoch 20/50\n",
      "54000/54000 [==============================] - 4s - loss: 0.2880 - acc: 0.9207 - val_loss: 0.2490 - val_acc: 0.9328\n",
      "Epoch 21/50\n",
      "54000/54000 [==============================] - 4s - loss: 0.2801 - acc: 0.9223 - val_loss: 0.2413 - val_acc: 0.9350\n",
      "Epoch 22/50\n",
      "54000/54000 [==============================] - 4s - loss: 0.2790 - acc: 0.9222 - val_loss: 0.2449 - val_acc: 0.9333\n",
      "Epoch 23/50\n",
      "54000/54000 [==============================] - 4s - loss: 0.2783 - acc: 0.9217 - val_loss: 0.2345 - val_acc: 0.9390\n",
      "Epoch 24/50\n",
      "54000/54000 [==============================] - 4s - loss: 0.2746 - acc: 0.9233 - val_loss: 0.2311 - val_acc: 0.9375\n",
      "Epoch 25/50\n",
      "54000/54000 [==============================] - 6s - loss: 0.2671 - acc: 0.9253 - val_loss: 0.2206 - val_acc: 0.9383\n",
      "Epoch 26/50\n",
      "54000/54000 [==============================] - 4s - loss: 0.2647 - acc: 0.9253 - val_loss: 0.2148 - val_acc: 0.9435\n",
      "Epoch 27/50\n",
      "54000/54000 [==============================] - 4s - loss: 0.2566 - acc: 0.9281 - val_loss: 0.2270 - val_acc: 0.9358\n",
      "Epoch 28/50\n",
      "54000/54000 [==============================] - 4s - loss: 0.2589 - acc: 0.9263 - val_loss: 0.2247 - val_acc: 0.9398\n",
      "Epoch 29/50\n",
      "54000/54000 [==============================] - 4s - loss: 0.2528 - acc: 0.9285 - val_loss: 0.2174 - val_acc: 0.9387\n",
      "Epoch 30/50\n",
      "54000/54000 [==============================] - 4s - loss: 0.2496 - acc: 0.9291 - val_loss: 0.2182 - val_acc: 0.9405\n",
      "Epoch 31/50\n",
      "54000/54000 [==============================] - 4s - loss: 0.2410 - acc: 0.9317 - val_loss: 0.2077 - val_acc: 0.9398\n",
      "Epoch 32/50\n",
      "54000/54000 [==============================] - 4s - loss: 0.2344 - acc: 0.9338 - val_loss: 0.2060 - val_acc: 0.9460\n",
      "Epoch 33/50\n",
      "54000/54000 [==============================] - 4s - loss: 0.2310 - acc: 0.9340 - val_loss: 0.1992 - val_acc: 0.9448\n",
      "Epoch 34/50\n",
      "54000/54000 [==============================] - 2s - loss: 0.2359 - acc: 0.9329 - val_loss: 0.2150 - val_acc: 0.9452\n",
      "Epoch 35/50\n",
      "54000/54000 [==============================] - 3s - loss: 0.2341 - acc: 0.9324 - val_loss: 0.2045 - val_acc: 0.9435\n",
      "Epoch 36/50\n",
      "54000/54000 [==============================] - 3s - loss: 0.2189 - acc: 0.9373 - val_loss: 0.1989 - val_acc: 0.9462\n",
      "Epoch 37/50\n",
      "54000/54000 [==============================] - 2s - loss: 0.2226 - acc: 0.9356 - val_loss: 0.1960 - val_acc: 0.9467\n",
      "Epoch 38/50\n",
      "54000/54000 [==============================] - 1s - loss: 0.2207 - acc: 0.9360 - val_loss: 0.1872 - val_acc: 0.9490\n",
      "Epoch 39/50\n",
      "54000/54000 [==============================] - 1s - loss: 0.2180 - acc: 0.9371 - val_loss: 0.1878 - val_acc: 0.9475\n",
      "Epoch 40/50\n",
      "54000/54000 [==============================] - 2s - loss: 0.2185 - acc: 0.9366 - val_loss: 0.1942 - val_acc: 0.9457\n",
      "Epoch 41/50\n",
      "54000/54000 [==============================] - 3s - loss: 0.2129 - acc: 0.9385 - val_loss: 0.1905 - val_acc: 0.9433\n",
      "Epoch 42/50\n",
      "54000/54000 [==============================] - 4s - loss: 0.2085 - acc: 0.9396 - val_loss: 0.2036 - val_acc: 0.9420\n",
      "Epoch 43/50\n",
      "54000/54000 [==============================] - 4s - loss: 0.2164 - acc: 0.9374 - val_loss: 0.1869 - val_acc: 0.9497\n",
      "Epoch 44/50\n",
      "54000/54000 [==============================] - 4s - loss: 0.2051 - acc: 0.9401 - val_loss: 0.1974 - val_acc: 0.9428\n",
      "Epoch 45/50\n",
      "54000/54000 [==============================] - 4s - loss: 0.2083 - acc: 0.9396 - val_loss: 0.1829 - val_acc: 0.9475\n",
      "Epoch 46/50\n",
      "54000/54000 [==============================] - 4s - loss: 0.1969 - acc: 0.9425 - val_loss: 0.1862 - val_acc: 0.9478\n",
      "Epoch 47/50\n",
      "54000/54000 [==============================] - 4s - loss: 0.1984 - acc: 0.9421 - val_loss: 0.1814 - val_acc: 0.9485\n",
      "Epoch 48/50\n",
      "54000/54000 [==============================] - 4s - loss: 0.1967 - acc: 0.9427 - val_loss: 0.1734 - val_acc: 0.9508\n",
      "Epoch 49/50\n",
      "54000/54000 [==============================] - 4s - loss: 0.1976 - acc: 0.9427 - val_loss: 0.1874 - val_acc: 0.9447\n",
      "Epoch 50/50\n",
      "54000/54000 [==============================] - 4s - loss: 0.2080 - acc: 0.9400 - val_loss: 0.1824 - val_acc: 0.9493\n"
     ]
    },
    {
     "data": {
      "text/plain": [
       "<keras.callbacks.History at 0x7f814dc33748>"
      ]
     },
     "execution_count": 5,
     "metadata": {},
     "output_type": "execute_result"
    }
   ],
   "source": [
    "model.fit(X_train,\n",
    "          y_train_ohe,\n",
    "          epochs=50,\n",
    "          batch_size=300,\n",
    "          verbose=1,\n",
    "          validation_split=0.1)"
   ]
  },
  {
   "cell_type": "code",
   "execution_count": 6,
   "metadata": {},
   "outputs": [
    {
     "name": "stdout",
     "output_type": "stream",
     "text": [
      "First 3 predictions:  [5 0 4]\n",
      "Training accuracy: 94.30%\n",
      "Test accuracy: 93.79%\n"
     ]
    }
   ],
   "source": [
    "y_train_pred = model.predict_classes(X_train, verbose=0)\n",
    "print('First 3 predictions: ', y_train_pred[:3])\n",
    "\n",
    "train_acc = np.sum(y_train == y_train_pred, axis=0) / X_train.shape[0]\n",
    "print('Training accuracy: %.2f%%' % (train_acc * 100))\n",
    "\n",
    "y_test_pred = model.predict_classes(X_test, verbose=0)\n",
    "test_acc = np.sum(y_test == y_test_pred, axis=0) / X_test.shape[0]\n",
    "print('Test accuracy: %.2f%%' % (test_acc * 100))"
   ]
  }
 ],
 "metadata": {
  "kernelspec": {
   "display_name": "Python 3",
   "language": "python",
   "name": "python3"
  },
  "language_info": {
   "codemirror_mode": {
    "name": "ipython",
    "version": 3
   },
   "file_extension": ".py",
   "mimetype": "text/x-python",
   "name": "python",
   "nbconvert_exporter": "python",
   "pygments_lexer": "ipython3",
   "version": "3.5.2"
  }
 },
 "nbformat": 4,
 "nbformat_minor": 2
}
